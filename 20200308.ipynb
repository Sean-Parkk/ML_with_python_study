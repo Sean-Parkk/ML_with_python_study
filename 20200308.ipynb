{
  "nbformat": 4,
  "nbformat_minor": 0,
  "metadata": {
    "colab": {
      "name": "mynote.ipynb",
      "provenance": [],
      "mount_file_id": "1YhuwSrGLyuB1iw-PhvHaJ4wMC14g1tTc",
      "authorship_tag": "ABX9TyMOr8gDwPgOcY21xFukTWgk",
      "include_colab_link": true
    },
    "kernelspec": {
      "name": "python3",
      "display_name": "Python 3"
    }
  },
  "cells": [
    {
      "cell_type": "markdown",
      "metadata": {
        "id": "view-in-github",
        "colab_type": "text"
      },
      "source": [
        "<a href=\"https://colab.research.google.com/github/Sean-Parkk/ML_with_python_study/blob/master/20200308.ipynb\" target=\"_parent\"><img src=\"https://colab.research.google.com/assets/colab-badge.svg\" alt=\"Open In Colab\"/></a>"
      ]
    },
    {
      "cell_type": "markdown",
      "metadata": {
        "id": "z61WI-EEPdgA",
        "colab_type": "text"
      },
      "source": [
        "# 라이브러리 설치"
      ]
    },
    {
      "cell_type": "code",
      "metadata": {
        "id": "IgsBa0hCaLfk",
        "colab_type": "code",
        "outputId": "829154d1-a90e-4566-d9ea-13289ae8b90d",
        "colab": {
          "base_uri": "https://localhost:8080/",
          "height": 305
        }
      },
      "source": [
        "pip install mglearn # scipy scikit-learn pillow"
      ],
      "execution_count": 1,
      "outputs": [
        {
          "output_type": "stream",
          "text": [
            "Requirement already satisfied: mglearn in /usr/local/lib/python3.6/dist-packages (0.1.7)\n",
            "Requirement already satisfied: cycler in /usr/local/lib/python3.6/dist-packages (from mglearn) (0.10.0)\n",
            "Requirement already satisfied: numpy in /usr/local/lib/python3.6/dist-packages (from mglearn) (1.17.5)\n",
            "Requirement already satisfied: pillow in /usr/local/lib/python3.6/dist-packages (from mglearn) (6.2.2)\n",
            "Requirement already satisfied: imageio in /usr/local/lib/python3.6/dist-packages (from mglearn) (2.4.1)\n",
            "Requirement already satisfied: matplotlib in /usr/local/lib/python3.6/dist-packages (from mglearn) (3.1.3)\n",
            "Requirement already satisfied: scikit-learn in /usr/local/lib/python3.6/dist-packages (from mglearn) (0.22.1)\n",
            "Requirement already satisfied: pandas in /usr/local/lib/python3.6/dist-packages (from mglearn) (0.25.3)\n",
            "Requirement already satisfied: six in /usr/local/lib/python3.6/dist-packages (from cycler->mglearn) (1.12.0)\n",
            "Requirement already satisfied: pyparsing!=2.0.4,!=2.1.2,!=2.1.6,>=2.0.1 in /usr/local/lib/python3.6/dist-packages (from matplotlib->mglearn) (2.4.6)\n",
            "Requirement already satisfied: kiwisolver>=1.0.1 in /usr/local/lib/python3.6/dist-packages (from matplotlib->mglearn) (1.1.0)\n",
            "Requirement already satisfied: python-dateutil>=2.1 in /usr/local/lib/python3.6/dist-packages (from matplotlib->mglearn) (2.6.1)\n",
            "Requirement already satisfied: joblib>=0.11 in /usr/local/lib/python3.6/dist-packages (from scikit-learn->mglearn) (0.14.1)\n",
            "Requirement already satisfied: scipy>=0.17.0 in /usr/local/lib/python3.6/dist-packages (from scikit-learn->mglearn) (1.4.1)\n",
            "Requirement already satisfied: pytz>=2017.2 in /usr/local/lib/python3.6/dist-packages (from pandas->mglearn) (2018.9)\n",
            "Requirement already satisfied: setuptools in /usr/local/lib/python3.6/dist-packages (from kiwisolver>=1.0.1->matplotlib->mglearn) (45.2.0)\n"
          ],
          "name": "stdout"
        }
      ]
    },
    {
      "cell_type": "code",
      "metadata": {
        "id": "wTEWxFEPhpyA",
        "colab_type": "code",
        "outputId": "0b4d1e7f-97df-4d3c-f017-d6967a155b67",
        "colab": {
          "base_uri": "https://localhost:8080/",
          "height": 145
        }
      },
      "source": [
        "import sklearn\n",
        "import scipy as sp\n",
        "import mglearn\n",
        "import pandas as pd\n",
        "import numpy as np\n",
        "import matplotlib as mpl\n",
        "import matplotlib.pyplot as plt\n",
        "plt.style.use('seaborn-whitegrid')\n",
        "%matplotlib inline\n",
        "import matplotlib.font_manager as fm\n",
        "# 시각화 시 한글 폰트 나오도록\n",
        "!apt -qq -y install fonts-nanum\n",
        "fontpath = '/usr/share/fonts/truetype/nanum/NanumBarunGothic.ttf'\n",
        "font = fm.FontProperties(fname=fontpath, size=9)\n",
        "plt.rc('font', family='NanumBarunGothic') \n",
        "mpl.font_manager._rebuild()\n",
        "import seaborn as sns\n",
        "import warnings\n",
        "warnings.filterwarnings('ignore')"
      ],
      "execution_count": 2,
      "outputs": [
        {
          "output_type": "stream",
          "text": [
            "/usr/local/lib/python3.6/dist-packages/sklearn/externals/six.py:31: FutureWarning: The module is deprecated in version 0.21 and will be removed in version 0.23 since we've dropped support for Python 2.7. Please rely on the official version of six (https://pypi.org/project/six/).\n",
            "  \"(https://pypi.org/project/six/).\", FutureWarning)\n",
            "/usr/local/lib/python3.6/dist-packages/sklearn/externals/joblib/__init__.py:15: FutureWarning: sklearn.externals.joblib is deprecated in 0.21 and will be removed in 0.23. Please import this functionality directly from joblib, which can be installed with: pip install joblib. If this warning is raised when loading pickled models, you may need to re-serialize those models with scikit-learn 0.21+.\n",
            "  warnings.warn(msg, category=FutureWarning)\n"
          ],
          "name": "stderr"
        },
        {
          "output_type": "stream",
          "text": [
            "fonts-nanum is already the newest version (20170925-1).\n",
            "0 upgraded, 0 newly installed, 0 to remove and 25 not upgraded.\n"
          ],
          "name": "stdout"
        }
      ]
    },
    {
      "cell_type": "markdown",
      "metadata": {
        "id": "7H4ybNjAiQ0d",
        "colab_type": "text"
      },
      "source": [
        "-----\n",
        "-----"
      ]
    },
    {
      "cell_type": "markdown",
      "metadata": {
        "id": "1VbGzKHVPYP2",
        "colab_type": "text"
      },
      "source": [
        "# 1. Forge 데이터셋"
      ]
    },
    {
      "cell_type": "markdown",
      "metadata": {
        "id": "xWY-fMIyPrHU",
        "colab_type": "text"
      },
      "source": [
        "### 1-1. 데이터셋 생성 및 시각화"
      ]
    },
    {
      "cell_type": "code",
      "metadata": {
        "id": "54FFzpSMHyOj",
        "colab_type": "code",
        "colab": {}
      },
      "source": [
        "# forge 데이터셋 생성\n",
        "X_forge, y_forge = mglearn.datasets.make_forge()"
      ],
      "execution_count": 0,
      "outputs": []
    },
    {
      "cell_type": "code",
      "metadata": {
        "id": "QHYRWxIxNWlZ",
        "colab_type": "code",
        "outputId": "da7d0008-4b31-4056-fd8d-f66333acdb92",
        "colab": {
          "base_uri": "https://localhost:8080/",
          "height": 35
        }
      },
      "source": [
        "# (레코드, 피처) 수\n",
        "X_forge.shape"
      ],
      "execution_count": 4,
      "outputs": [
        {
          "output_type": "execute_result",
          "data": {
            "text/plain": [
              "(26, 2)"
            ]
          },
          "metadata": {
            "tags": []
          },
          "execution_count": 4
        }
      ]
    },
    {
      "cell_type": "code",
      "metadata": {
        "id": "ZvkC2JFlJStI",
        "colab_type": "code",
        "outputId": "31eed58a-6ec2-4219-a367-bc7bbfba719c",
        "colab": {
          "base_uri": "https://localhost:8080/",
          "height": 294
        }
      },
      "source": [
        "mglearn.discrete_scatter(X_forge[:, 0], X_forge[:, 1], y_forge)\n",
        "plt.legend(['클래스 0', '클래스 1'], loc = 4)\n",
        "plt.xlabel('첫 번째 특성')"
      ],
      "execution_count": 5,
      "outputs": [
        {
          "output_type": "execute_result",
          "data": {
            "text/plain": [
              "Text(0.5, 0, '첫 번째 특성')"
            ]
          },
          "metadata": {
            "tags": []
          },
          "execution_count": 5
        },
        {
          "output_type": "display_data",
          "data": {
            "image/png": "[encoded data removed]",
            "text/plain": [
              "<Figure size 432x288 with 1 Axes>"
            ]
          },
          "metadata": {
            "tags": []
          }
        }
      ]
    },
    {
      "cell_type": "code",
      "metadata": {
        "id": "--i7EnbHK3wo",
        "colab_type": "code",
        "outputId": "dedc8403-0df4-4207-c187-fcba143d6b3b",
        "colab": {
          "base_uri": "https://localhost:8080/",
          "height": 262
        }
      },
      "source": [
        "# 시각화 ver2\n",
        "plt.scatter(X_forge[:, 0], X_forge[:, 1], s=X_forge[:,1]*10 + X_forge[:,0]*10, c=y_forge, cmap='Set2', alpha=.7)\n",
        "plt.show()"
      ],
      "execution_count": 6,
      "outputs": [
        {
          "output_type": "display_data",
          "data": {
            "image/png": "[encoded data removed]",
            "text/plain": [
              "<Figure size 432x288 with 1 Axes>"
            ]
          },
          "metadata": {
            "tags": []
          }
        }
      ]
    },
    {
      "cell_type": "markdown",
      "metadata": {
        "id": "e1fPVUVnbPwF",
        "colab_type": "text"
      },
      "source": [
        "### 1-2-1. kNN 알고리즘"
      ]
    },
    {
      "cell_type": "markdown",
      "metadata": {
        "id": "lwYvyDdcem4j",
        "colab_type": "text"
      },
      "source": [
        "* kNN알고리즘\n",
        "    * 새로운 레코드에 대해 가장 가까운 훈련 데이터 포인트로 분류\n",
        "    * 근접점의 수가 늘어나면, 가장 많이 근접한 이웃의 수로 분류"
      ]
    },
    {
      "cell_type": "code",
      "metadata": {
        "id": "Rtl2vOKHN3ED",
        "colab_type": "code",
        "outputId": "f0297cc2-126a-4bb2-9fd4-8c4977c49541",
        "colab": {
          "base_uri": "https://localhost:8080/",
          "height": 262
        }
      },
      "source": [
        "mglearn.plots.plot_knn_classification(n_neighbors=2)"
      ],
      "execution_count": 7,
      "outputs": [
        {
          "output_type": "display_data",
          "data": {
            "image/png": "[encoded data removed]",
            "text/plain": [
              "<Figure size 432x288 with 1 Axes>"
            ]
          },
          "metadata": {
            "tags": []
          }
        }
      ]
    },
    {
      "cell_type": "code",
      "metadata": {
        "id": "TFih3_nSe89L",
        "colab_type": "code",
        "colab": {}
      },
      "source": [
        "# 폴드아웃 샘플 생성\n",
        "from sklearn.model_selection import train_test_split\n",
        "X_forge, y_forge = mglearn.datasets.make_forge()\n",
        "\n",
        "X_train, X_test, y_train, y_test = train_test_split(X_forge, y_forge, random_state=0)"
      ],
      "execution_count": 0,
      "outputs": []
    },
    {
      "cell_type": "code",
      "metadata": {
        "id": "QNfNal-5fX6r",
        "colab_type": "code",
        "colab": {}
      },
      "source": [
        "# kNN분류 모듈 임포트, 객체 생성\n",
        "from sklearn.neighbors import KNeighborsClassifier\n",
        "clf = KNeighborsClassifier(n_neighbors=3)"
      ],
      "execution_count": 0,
      "outputs": []
    },
    {
      "cell_type": "code",
      "metadata": {
        "id": "ko0EjiR_f-wZ",
        "colab_type": "code",
        "outputId": "19d95287-a883-4b00-acf7-f57d26314900",
        "colab": {
          "base_uri": "https://localhost:8080/",
          "height": 71
        }
      },
      "source": [
        "# 분류 모델 학습\n",
        "clf.fit(X_train, y_train)"
      ],
      "execution_count": 10,
      "outputs": [
        {
          "output_type": "execute_result",
          "data": {
            "text/plain": [
              "KNeighborsClassifier(algorithm='auto', leaf_size=30, metric='minkowski',\n",
              "                     metric_params=None, n_jobs=None, n_neighbors=3, p=2,\n",
              "                     weights='uniform')"
            ]
          },
          "metadata": {
            "tags": []
          },
          "execution_count": 10
        }
      ]
    },
    {
      "cell_type": "code",
      "metadata": {
        "id": "rZIz8zADgCXR",
        "colab_type": "code",
        "outputId": "24bf34bd-0b34-4add-9086-b427c0138036",
        "colab": {
          "base_uri": "https://localhost:8080/",
          "height": 35
        }
      },
      "source": [
        "# predict 매서드로 테스트 데이터 호출하여 예측\n",
        "print('테스트 세트 예측: {}'.format(clf.predict(X_test)))"
      ],
      "execution_count": 11,
      "outputs": [
        {
          "output_type": "stream",
          "text": [
            "테스트 세트 예측: [1 0 1 0 1 0 0]\n"
          ],
          "name": "stdout"
        }
      ]
    },
    {
      "cell_type": "code",
      "metadata": {
        "id": "o69ULCQ1gWKy",
        "colab_type": "code",
        "outputId": "f905b3ac-421e-4d88-b243-88d0907bf46c",
        "colab": {
          "base_uri": "https://localhost:8080/",
          "height": 35
        }
      },
      "source": [
        "# 정확도 측정\n",
        "print('테스트 세트 예측 정확도: {:.2f}'.format(clf.score(X_test, y_test)))"
      ],
      "execution_count": 12,
      "outputs": [
        {
          "output_type": "stream",
          "text": [
            "테스트 세트 예측 정확도: 0.86\n"
          ],
          "name": "stdout"
        }
      ]
    },
    {
      "cell_type": "markdown",
      "metadata": {
        "id": "OIHwwfPniBOf",
        "colab_type": "text"
      },
      "source": [
        "### 1-2-2. kNeighborsClassifier 분석"
      ]
    },
    {
      "cell_type": "markdown",
      "metadata": {
        "id": "ptISudBVjux5",
        "colab_type": "text"
      },
      "source": [
        "* 이웃의 수에 따라 **결정 경계** *(decision boundary)*가 바뀜\n",
        "* 이웃의 수를 늘릴수록 결정 경계는 부드러워짐\n",
        "    * 이웃을 적게 사용하면 복잡도가 높아짐\n",
        "    * 이웃을 많이 사용하면 복잡도가 낮아짐\n",
        "    * 훈련 데이터 전체 개수를 이웃 수로 정하면, 훈련 세트에서 가장 많은 데이터 포인트를 가진 클래스로 예측\n",
        "    "
      ]
    },
    {
      "cell_type": "code",
      "metadata": {
        "id": "ldFsacfYh75L",
        "colab_type": "code",
        "outputId": "158cf1a3-22f5-4cb6-8f48-4526f5e8b664",
        "colab": {
          "base_uri": "https://localhost:8080/",
          "height": 241
        }
      },
      "source": [
        "fig, axes = plt.subplots(1, 3, figsize=(10,3))\n",
        "\n",
        "for n_neighbors, ax in zip([1, 3, 9], axes):\n",
        "    clf = KNeighborsClassifier(n_neighbors=n_neighbors).fit(X_forge, y_forge)\n",
        "    mglearn.plots.plot_2d_separator(clf, X_forge, fill=True, eps=0.5, ax=ax, alpha=.4)\n",
        "    mglearn.discrete_scatter(X_forge[:, 0], X_forge[:, 1], y_forge, ax=ax)\n",
        "    ax.set_title('{} 이웃'.format(n_neighbors))\n",
        "    ax.set_xlabel('특성 0')\n",
        "    ax.set_ylabel('특성 1')\n",
        "axes[0].legend(loc=3)\n"
      ],
      "execution_count": 13,
      "outputs": [
        {
          "output_type": "execute_result",
          "data": {
            "text/plain": [
              "<matplotlib.legend.Legend at 0x7f0db15364a8>"
            ]
          },
          "metadata": {
            "tags": []
          },
          "execution_count": 13
        },
        {
          "output_type": "display_data",
          "data": {
            "image/png": "[encoded data removed]",
            "text/plain": [
              "<Figure size 720x216 with 3 Axes>"
            ]
          },
          "metadata": {
            "tags": []
          }
        }
      ]
    },
    {
      "cell_type": "markdown",
      "metadata": {
        "id": "bhWb1NaAiNtv",
        "colab_type": "text"
      },
      "source": [
        "-----\n",
        "-----"
      ]
    },
    {
      "cell_type": "markdown",
      "metadata": {
        "id": "KUla3nXcQQBC",
        "colab_type": "text"
      },
      "source": [
        "# 2. wave 데이터셋"
      ]
    },
    {
      "cell_type": "markdown",
      "metadata": {
        "id": "n-RXmZPoQWJj",
        "colab_type": "text"
      },
      "source": [
        "### 2-1. 데이터셋 생성 및 시각화"
      ]
    },
    {
      "cell_type": "code",
      "metadata": {
        "id": "3Q88E25lQVa6",
        "colab_type": "code",
        "colab": {}
      },
      "source": [
        "# 데이터셋 생성\n",
        "X_wave, y_wave = mglearn.datasets.make_wave(n_samples=40)"
      ],
      "execution_count": 0,
      "outputs": []
    },
    {
      "cell_type": "code",
      "metadata": {
        "id": "fw5eWNy7QnDf",
        "colab_type": "code",
        "outputId": "1e5e6344-26f9-46b1-8a81-168c69b6d55a",
        "colab": {
          "base_uri": "https://localhost:8080/",
          "height": 35
        }
      },
      "source": [
        "# (레코드, 피처) 수\n",
        "X_wave.shape"
      ],
      "execution_count": 15,
      "outputs": [
        {
          "output_type": "execute_result",
          "data": {
            "text/plain": [
              "(40, 1)"
            ]
          },
          "metadata": {
            "tags": []
          },
          "execution_count": 15
        }
      ]
    },
    {
      "cell_type": "code",
      "metadata": {
        "id": "qyGeNRslQrsH",
        "colab_type": "code",
        "outputId": "cfe62a8e-e964-4817-9ed0-029963c435a4",
        "colab": {
          "base_uri": "https://localhost:8080/",
          "height": 279
        }
      },
      "source": [
        "# 시각화\n",
        "plt.scatter(X_wave, y_wave,  marker='o')\n",
        "plt.xlim(-3, 3)\n",
        "plt.ylim(-3, 3)\n",
        "plt.xlabel('특성')\n",
        "plt.ylabel('타깃')\n",
        "plt.show()"
      ],
      "execution_count": 16,
      "outputs": [
        {
          "output_type": "display_data",
          "data": {
            "image/png": "[encoded data removed]",
            "text/plain": [
              "<Figure size 432x288 with 1 Axes>"
            ]
          },
          "metadata": {
            "tags": []
          }
        }
      ]
    },
    {
      "cell_type": "markdown",
      "metadata": {
        "id": "ubco0wmrZmeL",
        "colab_type": "text"
      },
      "source": [
        "# 2-2. k-최근접 이웃 회귀"
      ]
    },
    {
      "cell_type": "markdown",
      "metadata": {
        "id": "BQj4QkPEaReN",
        "colab_type": "text"
      },
      "source": [
        "* x축에 피처 위치, 그 중 가장 가까운 이웃으로 회귀\n",
        "    * 하나의 이웃 사용 시, 가장 가까운 이웃 사용\n",
        "    * 여러 개의 최근접 이웃 사용 시, 이웃 간 평균이 예측됨\n",
        "    "
      ]
    },
    {
      "cell_type": "code",
      "metadata": {
        "id": "xtzBY2syWtL_",
        "colab_type": "code",
        "colab": {
          "base_uri": "https://localhost:8080/",
          "height": 411
        },
        "outputId": "e6fd89cd-22a9-404c-954c-79b06682d733"
      },
      "source": [
        "mglearn.plots.plot_knn_regression(n_neighbors=1)"
      ],
      "execution_count": 33,
      "outputs": [
        {
          "output_type": "display_data",
          "data": {
            "image/png": "[encoded data removed]",
            "text/plain": [
              "<Figure size 720x432 with 1 Axes>"
            ]
          },
          "metadata": {
            "tags": []
          }
        }
      ]
    },
    {
      "cell_type": "code",
      "metadata": {
        "id": "sDmhLo0SasaO",
        "colab_type": "code",
        "colab": {
          "base_uri": "https://localhost:8080/",
          "height": 411
        },
        "outputId": "53a15d2b-ec10-4cff-b519-84ab1f776f17"
      },
      "source": [
        "mglearn.plots.plot_knn_regression(n_neighbors=3)"
      ],
      "execution_count": 34,
      "outputs": [
        {
          "output_type": "display_data",
          "data": {
            "image/png": "[encoded data removed]",
            "text/plain": [
              "<Figure size 720x432 with 1 Axes>"
            ]
          },
          "metadata": {
            "tags": []
          }
        }
      ]
    },
    {
      "cell_type": "code",
      "metadata": {
        "id": "d3HF5hKUaxsE",
        "colab_type": "code",
        "colab": {}
      },
      "source": [
        "# 임포트 및 객체 불러오기\n",
        "from sklearn.neighbors import KNeighborsRegressor\n",
        "X_wave, y_wave = mglearn.datasets.make_wave(n_samples=40)"
      ],
      "execution_count": 0,
      "outputs": []
    },
    {
      "cell_type": "code",
      "metadata": {
        "id": "q0q-jZQ8bTNt",
        "colab_type": "code",
        "colab": {
          "base_uri": "https://localhost:8080/",
          "height": 71
        },
        "outputId": "84e7244c-bafd-41a5-f56e-785d01090bdf"
      },
      "source": [
        "# 폴드 아웃 샘플 생성\n",
        "X_train, X_test, y_train, y_test = train_test_split(X_wave, y_wave, random_state=0)\n",
        "\n",
        "# 이웃 수 3인 모델 객체 생성\n",
        "reg = KNeighborsRegressor(n_neighbors=3)\n",
        "reg.fit(X_train, y_train)"
      ],
      "execution_count": 44,
      "outputs": [
        {
          "output_type": "execute_result",
          "data": {
            "text/plain": [
              "KNeighborsRegressor(algorithm='auto', leaf_size=30, metric='minkowski',\n",
              "                    metric_params=None, n_jobs=None, n_neighbors=3, p=2,\n",
              "                    weights='uniform')"
            ]
          },
          "metadata": {
            "tags": []
          },
          "execution_count": 44
        }
      ]
    },
    {
      "cell_type": "code",
      "metadata": {
        "id": "T8xbDNPUcPq6",
        "colab_type": "code",
        "colab": {
          "base_uri": "https://localhost:8080/",
          "height": 71
        },
        "outputId": "59f72c6d-f671-4903-b17d-88b18deb7c7e"
      },
      "source": [
        "# 테스트 세트 예측\n",
        "print('테스트 세트 예측:\\n{}'.format(reg.predict(X_test)))"
      ],
      "execution_count": 45,
      "outputs": [
        {
          "output_type": "stream",
          "text": [
            "테스트 세트 예측:\n",
            "[-0.05396539  0.35686046  1.13671923 -1.89415682 -1.13881398 -1.63113382\n",
            "  0.35686046  0.91241374 -0.44680446 -1.13881398]\n"
          ],
          "name": "stdout"
        }
      ]
    },
    {
      "cell_type": "code",
      "metadata": {
        "id": "cah5w4yScdBs",
        "colab_type": "code",
        "colab": {
          "base_uri": "https://localhost:8080/",
          "height": 35
        },
        "outputId": "1125fef3-20ed-45cb-ce6c-3ebb974c26d9"
      },
      "source": [
        "# 모델 테스트\n",
        "print('테스트 세트 r스퀘어: {:.2f}'.format(reg.score(X_test, y_test)))"
      ],
      "execution_count": 46,
      "outputs": [
        {
          "output_type": "stream",
          "text": [
            "테스트 세트 r스퀘어: 0.83\n"
          ],
          "name": "stdout"
        }
      ]
    },
    {
      "cell_type": "markdown",
      "metadata": {
        "id": "mYTtJ7MGkeBc",
        "colab_type": "text"
      },
      "source": [
        "* 이웃 수가 모델의 일반화에 크게 관여\n",
        "    * 이웃이 적으면 훈련 데이터는 잘 예측, 일반화는 잘 안됨\n",
        "    * 이웃이 많으면 훈련 데이터와는 잘 맞지 않을 수 있지만, 안정적인 예측 가능\n"
      ]
    },
    {
      "cell_type": "code",
      "metadata": {
        "id": "xQB_7OXgd7ot",
        "colab_type": "code",
        "colab": {
          "base_uri": "https://localhost:8080/",
          "height": 309
        },
        "outputId": "73db2e39-d2cc-4e6f-dd4f-20375103f015"
      },
      "source": [
        "fig, axes = plt.subplots(1, 3, figsize=(15, 4))\n",
        "line = np.linspace(-3, 3, 1000).reshape(-1, 1)\n",
        "for n_neighbors, ax in zip([1,3,9], axes):\n",
        "    reg = KNeighborsRegressor(n_neighbors=n_neighbors)\n",
        "    reg.fit(X_train, y_train)\n",
        "    ax.plot(line, reg.predict(line))\n",
        "    ax.plot(X_train, y_train, '^', c=mglearn.cm2(0), markersize=8)\n",
        "    ax.plot(X_test, y_test, 'v', c=mglearn.cm2(1), markersize=8)\n",
        "\n",
        "    ax.set_title('{} 이웃의 훈련 스코어: {:.2f} 테스트 스코어: {:.2f}'.format(n_neighbors, reg.score(X_train, y_train), reg.score(X_test, y_test)))\n",
        "    ax.set_xlabel('특성')\n",
        "    ax.set_ylabel('타깃')\n",
        "axes[0].legend(['모델 예측', '훈련 데이터/타깃', '테스트 데이터/타깃'], loc=2)"
      ],
      "execution_count": 69,
      "outputs": [
        {
          "output_type": "execute_result",
          "data": {
            "text/plain": [
              "<matplotlib.legend.Legend at 0x7f0db0d7df28>"
            ]
          },
          "metadata": {
            "tags": []
          },
          "execution_count": 69
        },
        {
          "output_type": "display_data",
          "data": {
            "image/png": "[encoded data removed]",
            "text/plain": [
              "<Figure size 1080x288 with 3 Axes>"
            ]
          },
          "metadata": {
            "tags": []
          }
        }
      ]
    },
    {
      "cell_type": "markdown",
      "metadata": {
        "id": "etMZvz5GkyUR",
        "colab_type": "text"
      },
      "source": [
        "### 2-3 회귀 선형 모델"
      ]
    },
    {
      "cell_type": "code",
      "metadata": {
        "id": "6uo-Jx6wkx6l",
        "colab_type": "code",
        "colab": {
          "base_uri": "https://localhost:8080/",
          "height": 465
        },
        "outputId": "78950a46-813e-4b33-bd16-f36b1f286256"
      },
      "source": [
        "mglearn.plots.plot_linear_regression_wave()"
      ],
      "execution_count": 70,
      "outputs": [
        {
          "output_type": "stream",
          "text": [
            "w[0]: 0.393906  b: -0.031804\n"
          ],
          "name": "stdout"
        },
        {
          "output_type": "display_data",
          "data": {
            "image/png": "[encoded data removed]",
            "text/plain": [
              "<Figure size 576x576 with 1 Axes>"
            ]
          },
          "metadata": {
            "tags": []
          }
        }
      ]
    },
    {
      "cell_type": "code",
      "metadata": {
        "id": "G9JW73hXqyoi",
        "colab_type": "code",
        "colab": {}
      },
      "source": [
        "# 객체 임포트 및 모델 생성\n",
        "from sklearn.linear_model import LinearRegression\n",
        "X_wave, y_wave = mglearn.datasets.make_wave(n_samples=60)\n",
        "X_train, X_test, y_train, y_test = train_test_split(X_wave, y_wave, random_state=42)\n",
        "\n",
        "lr = LinearRegression().fit(X_train, y_train)"
      ],
      "execution_count": 0,
      "outputs": []
    },
    {
      "cell_type": "code",
      "metadata": {
        "id": "02-0lJQ6naz6",
        "colab_type": "code",
        "colab": {
          "base_uri": "https://localhost:8080/",
          "height": 53
        },
        "outputId": "c05fe992-6bc2-4155-bb9c-9a9fd1915de3"
      },
      "source": [
        "# 모델의 w, b 출력\n",
        "## 싸이킷런에서 데이터에서 유도된 속성은 항상 끝에 밑줄을 붙임.\n",
        "## 사용자가 지정한 매개변수와 구분하기 위함\n",
        "print('[w(weight), 가중치, 계수]: {} \\n[편향, 절편, 파라미터(b)]: {}'.format( lr.coef_,lr.intercept_))"
      ],
      "execution_count": 81,
      "outputs": [
        {
          "output_type": "stream",
          "text": [
            "[w(weight), 가중치, 계수]: [0.39390555] \n",
            "[편향, 절편, 파라미터(b)]: -0.031804343026759746\n"
          ],
          "name": "stdout"
        }
      ]
    },
    {
      "cell_type": "code",
      "metadata": {
        "id": "FpI3YcA1sFMp",
        "colab_type": "code",
        "colab": {
          "base_uri": "https://localhost:8080/",
          "height": 53
        },
        "outputId": "bed09cec-17b0-4b02-fcaf-132c8a856053"
      },
      "source": [
        "# 훈련 세트 점수 및 테스트 세트 점수 출력\n",
        "## R스퀘어 값이 0.66으로 그리 좋은 점수는 아님\n",
        "## 추가로, 훈련 세트와 테스트 세트 점수가 비슷\n",
        "## 즉, 과소적합 상태\n",
        "print('훈련 세트 점수: {:.2f}'.format(lr.score(X_train, y_train)))\n",
        "print('테스트 세트 점수: {:.2f}'.format(lr.score(X_test, y_test)))"
      ],
      "execution_count": 83,
      "outputs": [
        {
          "output_type": "stream",
          "text": [
            "훈련 세트 점수: 0.67\n",
            "테스트 세트 점수: 0.66\n"
          ],
          "name": "stdout"
        }
      ]
    },
    {
      "cell_type": "markdown",
      "metadata": {
        "id": "Mop3BLYsWsNm",
        "colab_type": "text"
      },
      "source": [
        "# 3. 위스콘신 유방암 데이터셋\n",
        "* 조직 데이터를 기반으로 종양의 악성 여부 예측"
      ]
    },
    {
      "cell_type": "markdown",
      "metadata": {
        "id": "KC14P9-MW3Y6",
        "colab_type": "text"
      },
      "source": [
        "### 3-1. 데이터셋 생성"
      ]
    },
    {
      "cell_type": "code",
      "metadata": {
        "id": "hERGAxIJW2Lu",
        "colab_type": "code",
        "outputId": "605c5587-745a-4e22-9f00-54efb7facfe3",
        "colab": {
          "base_uri": "https://localhost:8080/",
          "height": 35
        }
      },
      "source": [
        "from sklearn.datasets import load_breast_cancer\n",
        "cancer = load_breast_cancer()\n",
        "cancer.keys()"
      ],
      "execution_count": 17,
      "outputs": [
        {
          "output_type": "execute_result",
          "data": {
            "text/plain": [
              "dict_keys(['data', 'target', 'target_names', 'DESCR', 'feature_names', 'filename'])"
            ]
          },
          "metadata": {
            "tags": []
          },
          "execution_count": 17
        }
      ]
    },
    {
      "cell_type": "code",
      "metadata": {
        "id": "CEIXeO8dYCUS",
        "colab_type": "code",
        "outputId": "793f1f8f-7ba6-48c1-f57f-74d03810a6ae",
        "colab": {
          "base_uri": "https://localhost:8080/",
          "height": 35
        }
      },
      "source": [
        "# data 레코드, 피처 수 확인\n",
        "cancer['data'].shape"
      ],
      "execution_count": 18,
      "outputs": [
        {
          "output_type": "execute_result",
          "data": {
            "text/plain": [
              "(569, 30)"
            ]
          },
          "metadata": {
            "tags": []
          },
          "execution_count": 18
        }
      ]
    },
    {
      "cell_type": "code",
      "metadata": {
        "id": "C9FJ1MtaZCKI",
        "colab_type": "code",
        "outputId": "2ec86617-307c-45f5-9d93-2470fc7516a2",
        "colab": {
          "base_uri": "https://localhost:8080/",
          "height": 35
        }
      },
      "source": [
        "# target의 값 확인\n",
        "np.unique(cancer['target'])"
      ],
      "execution_count": 19,
      "outputs": [
        {
          "output_type": "execute_result",
          "data": {
            "text/plain": [
              "array([0, 1])"
            ]
          },
          "metadata": {
            "tags": []
          },
          "execution_count": 19
        }
      ]
    },
    {
      "cell_type": "code",
      "metadata": {
        "id": "qsrZqtJvYI-R",
        "colab_type": "code",
        "outputId": "606b5080-13b1-4432-871c-f6fbcd9443b0",
        "colab": {
          "base_uri": "https://localhost:8080/",
          "height": 197
        }
      },
      "source": [
        "# 각 피처들의 이름 조회\n",
        "cancer['feature_names']"
      ],
      "execution_count": 20,
      "outputs": [
        {
          "output_type": "execute_result",
          "data": {
            "text/plain": [
              "array(['mean radius', 'mean texture', 'mean perimeter', 'mean area',\n",
              "       'mean smoothness', 'mean compactness', 'mean concavity',\n",
              "       'mean concave points', 'mean symmetry', 'mean fractal dimension',\n",
              "       'radius error', 'texture error', 'perimeter error', 'area error',\n",
              "       'smoothness error', 'compactness error', 'concavity error',\n",
              "       'concave points error', 'symmetry error',\n",
              "       'fractal dimension error', 'worst radius', 'worst texture',\n",
              "       'worst perimeter', 'worst area', 'worst smoothness',\n",
              "       'worst compactness', 'worst concavity', 'worst concave points',\n",
              "       'worst symmetry', 'worst fractal dimension'], dtype='<U23')"
            ]
          },
          "metadata": {
            "tags": []
          },
          "execution_count": 20
        }
      ]
    },
    {
      "cell_type": "code",
      "metadata": {
        "id": "bMCN1fsHZfq-",
        "colab_type": "code",
        "outputId": "2405c5b8-255b-491d-8866-912b5e33392a",
        "colab": {
          "base_uri": "https://localhost:8080/",
          "height": 53
        }
      },
      "source": [
        "# 클래스별 샘플 수\n",
        "print('클래스별 샘플 수:\\n{}'.format({n: v for n, v in zip(cancer['target_names'], np.bincount(cancer['target']))}))"
      ],
      "execution_count": 21,
      "outputs": [
        {
          "output_type": "stream",
          "text": [
            "클래스별 샘플 수:\n",
            "{'malignant': 212, 'benign': 357}\n"
          ],
          "name": "stdout"
        }
      ]
    },
    {
      "cell_type": "code",
      "metadata": {
        "id": "6lYRxTYUakI-",
        "colab_type": "code",
        "colab": {}
      },
      "source": [
        ""
      ],
      "execution_count": 0,
      "outputs": []
    },
    {
      "cell_type": "markdown",
      "metadata": {
        "id": "0cFN9hAHcopF",
        "colab_type": "text"
      },
      "source": [
        "# 4. 보스턴 주택가격 데이터셋 \n",
        "* 70년대 보스턴 주변 주택 평균 가격 예측\n",
        "    * 범죄율, 찰스강 인접도, 고속도로 접근성 등을 활용\n",
        "    * 회귀 분석\n",
        "\n"
      ]
    },
    {
      "cell_type": "markdown",
      "metadata": {
        "id": "XDrU01fHdCM2",
        "colab_type": "text"
      },
      "source": [
        "### 4-1. 데이터셋 생성\n",
        "* 특성 공학\n",
        "    * 기존 피처를 통해 새로운 피처 유도"
      ]
    },
    {
      "cell_type": "code",
      "metadata": {
        "id": "KTBVS_1-c2Gd",
        "colab_type": "code",
        "colab": {}
      },
      "source": [
        "from sklearn.datasets import load_boston\n",
        "boston = load_boston()"
      ],
      "execution_count": 0,
      "outputs": []
    },
    {
      "cell_type": "code",
      "metadata": {
        "id": "NgK1yBFmeCxt",
        "colab_type": "code",
        "outputId": "867411b1-e009-486b-9099-dbb8b65f4e33",
        "colab": {
          "base_uri": "https://localhost:8080/",
          "height": 35
        }
      },
      "source": [
        "boston.keys()"
      ],
      "execution_count": 23,
      "outputs": [
        {
          "output_type": "execute_result",
          "data": {
            "text/plain": [
              "dict_keys(['data', 'target', 'feature_names', 'DESCR', 'filename'])"
            ]
          },
          "metadata": {
            "tags": []
          },
          "execution_count": 23
        }
      ]
    },
    {
      "cell_type": "code",
      "metadata": {
        "id": "B1LGu-Sqd4OC",
        "colab_type": "code",
        "outputId": "c5bf43e3-d682-49ec-ac0d-dffe87e31294",
        "colab": {
          "base_uri": "https://localhost:8080/",
          "height": 35
        }
      },
      "source": [
        "# 레코드, 피처 수\n",
        "boston['data'].shape"
      ],
      "execution_count": 24,
      "outputs": [
        {
          "output_type": "execute_result",
          "data": {
            "text/plain": [
              "(506, 13)"
            ]
          },
          "metadata": {
            "tags": []
          },
          "execution_count": 24
        }
      ]
    },
    {
      "cell_type": "code",
      "metadata": {
        "id": "XeydZMsPd7JZ",
        "colab_type": "code",
        "colab": {}
      },
      "source": [
        "# 특성 공학 데이터 로드 \n",
        "X, y = mglearn.datasets.load_extended_boston()"
      ],
      "execution_count": 0,
      "outputs": []
    },
    {
      "cell_type": "code",
      "metadata": {
        "id": "ECWnDb2oehFF",
        "colab_type": "code",
        "outputId": "38777e73-ae90-49e9-b884-d181171f7a9a",
        "colab": {
          "base_uri": "https://localhost:8080/",
          "height": 35
        }
      },
      "source": [
        "# 레코드, 피처 수\n",
        "X.shape"
      ],
      "execution_count": 84,
      "outputs": [
        {
          "output_type": "execute_result",
          "data": {
            "text/plain": [
              "(506, 104)"
            ]
          },
          "metadata": {
            "tags": []
          },
          "execution_count": 84
        }
      ]
    },
    {
      "cell_type": "markdown",
      "metadata": {
        "id": "9RMXErKZumBE",
        "colab_type": "text"
      },
      "source": [
        "### 4-2-1. 단순 선형 회귀"
      ]
    },
    {
      "cell_type": "code",
      "metadata": {
        "id": "BVJGZbOwukrZ",
        "colab_type": "code",
        "colab": {}
      },
      "source": [
        "# 선형 회귀 모델 피팅\n",
        "X, y = mglearn.datasets.load_extended_boston()\n",
        "X_train, X_test, y_train, y_test = train_test_split(X, y, random_state=0)\n",
        "lr = LinearRegression().fit(X_train, y_train)"
      ],
      "execution_count": 0,
      "outputs": []
    },
    {
      "cell_type": "code",
      "metadata": {
        "id": "saS2Y31pvCvf",
        "colab_type": "code",
        "colab": {
          "base_uri": "https://localhost:8080/",
          "height": 53
        },
        "outputId": "794d1d71-cb2d-4ab0-cf88-e27530886ca6"
      },
      "source": [
        "# 피처가 많은 데이터에 단순한 모델을 적용\n",
        "## 훈련 세트에는 잘 적용되지만, 오버피팅 일어났음\n",
        "print('훈련 세트 점수: {:.2f}'.format(lr.score(X_train, y_train)))\n",
        "print('테스트 세트 점수: {:.2f}'.format(lr.score(X_test, y_test)))"
      ],
      "execution_count": 88,
      "outputs": [
        {
          "output_type": "stream",
          "text": [
            "훈련 세트 점수: 0.95\n",
            "훈련 세트 점수: 0.61\n"
          ],
          "name": "stdout"
        }
      ]
    },
    {
      "cell_type": "markdown",
      "metadata": {
        "id": "V1CVthrg44Y9",
        "colab_type": "text"
      },
      "source": [
        "### 4-2-2. 릿지 회귀"
      ]
    },
    {
      "cell_type": "markdown",
      "metadata": {
        "id": "jkvLX2X349Ld",
        "colab_type": "text"
      },
      "source": [
        "* L2 규제\n",
        "    * w의 값을 최소화"
      ]
    },
    {
      "cell_type": "code",
      "metadata": {
        "id": "PW4KDC3446t3",
        "colab_type": "code",
        "colab": {
          "base_uri": "https://localhost:8080/",
          "height": 53
        },
        "outputId": "47bf5fd1-72c9-4253-c71a-733393d4ce74"
      },
      "source": [
        "# 릿지 회귀 임포트 및 피팅\n",
        "## 선형 회귀에 비해 과대적합이 적어짐\n",
        "from sklearn.linear_model import Ridge\n",
        "\n",
        "ridge = Ridge().fit(X_train, y_train)\n",
        "print('훈련 세트 점수: {:.2f}'.format(ridge.score(X_train, y_train)))\n",
        "print('테스트 세트 점수: {:.2f}'.format(ridge.score(X_test, y_test)))"
      ],
      "execution_count": 108,
      "outputs": [
        {
          "output_type": "stream",
          "text": [
            "훈련 세트 점수: 0.89\n",
            "테스트 세트 점수: 0.75\n"
          ],
          "name": "stdout"
        }
      ]
    },
    {
      "cell_type": "code",
      "metadata": {
        "id": "oaKsOG_79Led",
        "colab_type": "code",
        "colab": {
          "base_uri": "https://localhost:8080/",
          "height": 53
        },
        "outputId": "1d398048-a8f9-456d-9340-4594d04824db"
      },
      "source": [
        "#ridge alpha값 조정\n",
        "ridge10 = Ridge(alpha=10).fit(X_train, y_train)\n",
        "print('훈련 세트 점수: {:.2f}'.format(ridge10.score(X_train, y_train)))\n",
        "print('테스트 세트 점수: {:.2f}'.format(ridge10.score(X_test, y_test)))"
      ],
      "execution_count": 109,
      "outputs": [
        {
          "output_type": "stream",
          "text": [
            "훈련 세트 점수: 0.79\n",
            "테스트 세트 점수: 0.64\n"
          ],
          "name": "stdout"
        }
      ]
    },
    {
      "cell_type": "code",
      "metadata": {
        "id": "OaIvKGnZ-VLz",
        "colab_type": "code",
        "colab": {
          "base_uri": "https://localhost:8080/",
          "height": 53
        },
        "outputId": "e9a59166-c261-4013-8c38-9deb755b299b"
      },
      "source": [
        "#ridge alpha값 조정\n",
        "ridge01 = Ridge(alpha=0.1).fit(X_train, y_train)\n",
        "print('훈련 세트 점수: {:.2f}'.format(ridge01.score(X_train, y_train)))\n",
        "print('테스트 세트 점수: {:.2f}'.format(ridge01.score(X_test, y_test)))"
      ],
      "execution_count": 110,
      "outputs": [
        {
          "output_type": "stream",
          "text": [
            "훈련 세트 점수: 0.93\n",
            "테스트 세트 점수: 0.77\n"
          ],
          "name": "stdout"
        }
      ]
    },
    {
      "cell_type": "code",
      "metadata": {
        "id": "KDt2R1ab-YzK",
        "colab_type": "code",
        "colab": {}
      },
      "source": [
        ""
      ],
      "execution_count": 0,
      "outputs": []
    }
  ]
}