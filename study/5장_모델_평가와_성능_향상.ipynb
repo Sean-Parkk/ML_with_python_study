{
  "nbformat": 4,
  "nbformat_minor": 0,
  "metadata": {
    "colab": {
      "name": "5장_모델 평가와 성능 향상.ipynb",
      "provenance": [],
      "authorship_tag": "ABX9TyN5y/PZV/dGsUY+7L/Rof4K"
    },
    "kernelspec": {
      "name": "python3",
      "display_name": "Python 3"
    }
  },
  "cells": [
    {
      "cell_type": "markdown",
      "metadata": {
        "id": "WMkS1n4VMb2M",
        "colab_type": "text"
      },
      "source": [
        "# 0. 라이브러리 임포트"
      ]
    },
    {
      "cell_type": "code",
      "metadata": {
        "id": "8GJY0SAMMZps",
        "colab_type": "code",
        "outputId": "cb2720c5-a239-4709-8bca-b5a115c3db79",
        "colab": {
          "base_uri": "https://localhost:8080/",
          "height": 305
        }
      },
      "source": [
        "pip install mglearn"
      ],
      "execution_count": 1,
      "outputs": [
        {
          "output_type": "stream",
          "text": [
            "Requirement already satisfied: mglearn in /usr/local/lib/python3.6/dist-packages (0.1.7)\n",
            "Requirement already satisfied: numpy in /usr/local/lib/python3.6/dist-packages (from mglearn) (1.18.2)\n",
            "Requirement already satisfied: matplotlib in /usr/local/lib/python3.6/dist-packages (from mglearn) (3.2.1)\n",
            "Requirement already satisfied: imageio in /usr/local/lib/python3.6/dist-packages (from mglearn) (2.4.1)\n",
            "Requirement already satisfied: pandas in /usr/local/lib/python3.6/dist-packages (from mglearn) (0.25.3)\n",
            "Requirement already satisfied: scikit-learn in /usr/local/lib/python3.6/dist-packages (from mglearn) (0.22.2.post1)\n",
            "Requirement already satisfied: pillow in /usr/local/lib/python3.6/dist-packages (from mglearn) (7.0.0)\n",
            "Requirement already satisfied: cycler in /usr/local/lib/python3.6/dist-packages (from mglearn) (0.10.0)\n",
            "Requirement already satisfied: python-dateutil>=2.1 in /usr/local/lib/python3.6/dist-packages (from matplotlib->mglearn) (2.8.1)\n",
            "Requirement already satisfied: kiwisolver>=1.0.1 in /usr/local/lib/python3.6/dist-packages (from matplotlib->mglearn) (1.1.0)\n",
            "Requirement already satisfied: pyparsing!=2.0.4,!=2.1.2,!=2.1.6,>=2.0.1 in /usr/local/lib/python3.6/dist-packages (from matplotlib->mglearn) (2.4.6)\n",
            "Requirement already satisfied: pytz>=2017.2 in /usr/local/lib/python3.6/dist-packages (from pandas->mglearn) (2018.9)\n",
            "Requirement already satisfied: scipy>=0.17.0 in /usr/local/lib/python3.6/dist-packages (from scikit-learn->mglearn) (1.4.1)\n",
            "Requirement already satisfied: joblib>=0.11 in /usr/local/lib/python3.6/dist-packages (from scikit-learn->mglearn) (0.14.1)\n",
            "Requirement already satisfied: six in /usr/local/lib/python3.6/dist-packages (from cycler->mglearn) (1.12.0)\n",
            "Requirement already satisfied: setuptools in /usr/local/lib/python3.6/dist-packages (from kiwisolver>=1.0.1->matplotlib->mglearn) (46.0.0)\n"
          ],
          "name": "stdout"
        }
      ]
    },
    {
      "cell_type": "code",
      "metadata": {
        "id": "nDYnhKvbMXyp",
        "colab_type": "code",
        "outputId": "0a461a56-5bb2-4a8e-8f2c-ae149e6bdf0d",
        "colab": {
          "base_uri": "https://localhost:8080/",
          "height": 145
        }
      },
      "source": [
        "import os\n",
        "import pandas as pd\n",
        "import numpy as np\n",
        "import matplotlib as mpl\n",
        "import matplotlib.pyplot as plt\n",
        "plt.style.use('seaborn-whitegrid')\n",
        "%matplotlib inline\n",
        "# 시각화 시 한글 폰트 나오도록\n",
        "import matplotlib.font_manager as fm\n",
        "!apt -qq -y install fonts-nanum\n",
        "fontpath = '/usr/share/fonts/truetype/nanum/NanumBarunGothic.ttf'\n",
        "font = fm.FontProperties(fname=fontpath, size=9)\n",
        "plt.rc('font', family='NanumBarunGothic') \n",
        "mpl.font_manager._rebuild()\n",
        "import seaborn as sns\n",
        "\n",
        "# ML\n",
        "import sklearn\n",
        "import scipy as sp\n",
        "import mglearn\n",
        "from sklearn.model_selection import train_test_split\n",
        "from sklearn.preprocessing import MinMaxScaler\n",
        "\n",
        "# 경고 무시\n",
        "import warnings\n",
        "warnings.filterwarnings(action='ignore')"
      ],
      "execution_count": 2,
      "outputs": [
        {
          "output_type": "stream",
          "text": [
            "fonts-nanum is already the newest version (20170925-1).\n",
            "0 upgraded, 0 newly installed, 0 to remove and 25 not upgraded.\n"
          ],
          "name": "stdout"
        },
        {
          "output_type": "stream",
          "text": [
            "/usr/local/lib/python3.6/dist-packages/sklearn/externals/six.py:31: FutureWarning: The module is deprecated in version 0.21 and will be removed in version 0.23 since we've dropped support for Python 2.7. Please rely on the official version of six (https://pypi.org/project/six/).\n",
            "  \"(https://pypi.org/project/six/).\", FutureWarning)\n",
            "/usr/local/lib/python3.6/dist-packages/sklearn/externals/joblib/__init__.py:15: FutureWarning: sklearn.externals.joblib is deprecated in 0.21 and will be removed in 0.23. Please import this functionality directly from joblib, which can be installed with: pip install joblib. If this warning is raised when loading pickled models, you may need to re-serialize those models with scikit-learn 0.21+.\n",
            "  warnings.warn(msg, category=FutureWarning)\n"
          ],
          "name": "stderr"
        }
      ]
    },
    {
      "cell_type": "code",
      "metadata": {
        "id": "DDJzv4vkLBS7",
        "colab_type": "code",
        "colab": {}
      },
      "source": [
        "from sklearn.metrics import f1_score"
      ],
      "execution_count": 0,
      "outputs": []
    },
    {
      "cell_type": "markdown",
      "metadata": {
        "id": "8OS1g_KIUXQZ",
        "colab_type": "text"
      },
      "source": [
        "# 1. 모델 평가와 성능 향상"
      ]
    },
    {
      "cell_type": "markdown",
      "metadata": {
        "id": "2J_zB7vvUaLx",
        "colab_type": "text"
      },
      "source": [
        "### 1-1. 교차 검증 "
      ]
    },
    {
      "cell_type": "code",
      "metadata": {
        "id": "pDDaUdHOUckZ",
        "colab_type": "code",
        "outputId": "1e22d683-9add-4d8d-9ee1-f31224051eef",
        "colab": {
          "base_uri": "https://localhost:8080/",
          "height": 182
        }
      },
      "source": [
        "mglearn.plots.plot_cross_validation()"
      ],
      "execution_count": 4,
      "outputs": [
        {
          "output_type": "display_data",
          "data": {
            "image/png": "[encoded data removed]",
            "text/plain": [
              "<Figure size 864x144 with 1 Axes>"
            ]
          },
          "metadata": {
            "tags": []
          }
        }
      ]
    },
    {
      "cell_type": "markdown",
      "metadata": {
        "id": "K7MswpFWM3Cq",
        "colab_type": "text"
      },
      "source": [
        "# 2. iris"
      ]
    },
    {
      "cell_type": "code",
      "metadata": {
        "id": "CyXRaxjuM-dl",
        "colab_type": "code",
        "colab": {}
      },
      "source": [
        "from sklearn.datasets import load_iris"
      ],
      "execution_count": 0,
      "outputs": []
    },
    {
      "cell_type": "markdown",
      "metadata": {
        "id": "G9ZhUlkiM6J1",
        "colab_type": "text"
      },
      "source": [
        "### 2-1. 교차 검증"
      ]
    },
    {
      "cell_type": "code",
      "metadata": {
        "id": "UMm_7bkEM4pD",
        "colab_type": "code",
        "outputId": "7e7ad05d-6254-4857-9b66-af21a53fbb86",
        "colab": {
          "base_uri": "https://localhost:8080/",
          "height": 35
        }
      },
      "source": [
        "from sklearn.model_selection import cross_val_score\n",
        "from sklearn.linear_model import LogisticRegression\n",
        "\n",
        "iris = load_iris()\n",
        "logreg = LogisticRegression()\n",
        "\n",
        "scores = cross_val_score(logreg, iris['data'], iris['target'], cv=5)\n",
        "print('교차 검증 점수: {}'.format(scores))"
      ],
      "execution_count": 6,
      "outputs": [
        {
          "output_type": "stream",
          "text": [
            "교차 검증 점수: [0.96666667 1.         0.93333333 0.96666667 1.        ]\n"
          ],
          "name": "stdout"
        }
      ]
    },
    {
      "cell_type": "code",
      "metadata": {
        "id": "hVK3kFVX5OdO",
        "colab_type": "code",
        "outputId": "2e5310cd-32c1-43fa-82f2-8b62ad30b25a",
        "colab": {
          "base_uri": "https://localhost:8080/",
          "height": 35
        }
      },
      "source": [
        "print('교차 검증 평균 점수: {:.3f}'.format(scores.mean()))"
      ],
      "execution_count": 7,
      "outputs": [
        {
          "output_type": "stream",
          "text": [
            "교차 검증 평균 점수: 0.973\n"
          ],
          "name": "stdout"
        }
      ]
    },
    {
      "cell_type": "markdown",
      "metadata": {
        "id": "GqT0dq1H9_rv",
        "colab_type": "text"
      },
      "source": [
        "* 계층별 교차 검증"
      ]
    },
    {
      "cell_type": "code",
      "metadata": {
        "id": "Zj3konZ_692R",
        "colab_type": "code",
        "outputId": "97765067-c907-409c-b854-1170a853d9ce",
        "colab": {
          "base_uri": "https://localhost:8080/",
          "height": 143
        }
      },
      "source": [
        "# 레이블 별로 나뉘어있기 때문에 샘플을 3겹 교차 검증 시, 문제 발생\n",
        "iris.target"
      ],
      "execution_count": 8,
      "outputs": [
        {
          "output_type": "execute_result",
          "data": {
            "text/plain": [
              "array([0, 0, 0, 0, 0, 0, 0, 0, 0, 0, 0, 0, 0, 0, 0, 0, 0, 0, 0, 0, 0, 0,\n",
              "       0, 0, 0, 0, 0, 0, 0, 0, 0, 0, 0, 0, 0, 0, 0, 0, 0, 0, 0, 0, 0, 0,\n",
              "       0, 0, 0, 0, 0, 0, 1, 1, 1, 1, 1, 1, 1, 1, 1, 1, 1, 1, 1, 1, 1, 1,\n",
              "       1, 1, 1, 1, 1, 1, 1, 1, 1, 1, 1, 1, 1, 1, 1, 1, 1, 1, 1, 1, 1, 1,\n",
              "       1, 1, 1, 1, 1, 1, 1, 1, 1, 1, 1, 1, 2, 2, 2, 2, 2, 2, 2, 2, 2, 2,\n",
              "       2, 2, 2, 2, 2, 2, 2, 2, 2, 2, 2, 2, 2, 2, 2, 2, 2, 2, 2, 2, 2, 2,\n",
              "       2, 2, 2, 2, 2, 2, 2, 2, 2, 2, 2, 2, 2, 2, 2, 2, 2, 2])"
            ]
          },
          "metadata": {
            "tags": []
          },
          "execution_count": 8
        }
      ]
    },
    {
      "cell_type": "code",
      "metadata": {
        "id": "h7eyqXWG8O_o",
        "colab_type": "code",
        "outputId": "bbaafc63-0cea-4ee4-d7e1-d094289dc27d",
        "colab": {
          "base_uri": "https://localhost:8080/",
          "height": 369
        }
      },
      "source": [
        "# scikit-learn에서는 분류에서는 계층별 k겹 교차 검증, 회귀에서는 단순 k겹 교차 검증 사용됨\n",
        "mglearn.plots.plot_stratified_cross_validation()"
      ],
      "execution_count": 9,
      "outputs": [
        {
          "output_type": "display_data",
          "data": {
            "image/png": "[encoded data removed]",
            "text/plain": [
              "<Figure size 864x360 with 2 Axes>"
            ]
          },
          "metadata": {
            "tags": []
          }
        }
      ]
    },
    {
      "cell_type": "markdown",
      "metadata": {
        "id": "yTMsDLUk-Jlv",
        "colab_type": "text"
      },
      "source": [
        "* 교차 검증 상세 옵션"
      ]
    },
    {
      "cell_type": "code",
      "metadata": {
        "id": "e66hEA7i8eWW",
        "colab_type": "code",
        "colab": {}
      },
      "source": [
        "from sklearn.model_selection import KFold\n",
        "kfold = KFold(n_splits=5)"
      ],
      "execution_count": 0,
      "outputs": []
    },
    {
      "cell_type": "code",
      "metadata": {
        "id": "0sgT6mpn97jp",
        "colab_type": "code",
        "outputId": "90fb7189-6fd6-4dbd-a34d-f54343d57550",
        "colab": {
          "base_uri": "https://localhost:8080/",
          "height": 53
        }
      },
      "source": [
        "print('교차 검증 점수: \\n{}'.format(cross_val_score(logreg, iris['data'], iris['target'], cv=kfold)))"
      ],
      "execution_count": 11,
      "outputs": [
        {
          "output_type": "stream",
          "text": [
            "교차 검증 점수: \n",
            "[1.         1.         0.86666667 0.93333333 0.83333333]\n"
          ],
          "name": "stdout"
        }
      ]
    },
    {
      "cell_type": "code",
      "metadata": {
        "id": "J22BBFv2-ipS",
        "colab_type": "code",
        "outputId": "aef4738d-b3c3-40fd-9533-08869589753f",
        "colab": {
          "base_uri": "https://localhost:8080/",
          "height": 53
        }
      },
      "source": [
        "# 단순 3겹 교차검증 시 잘못된 결과\n",
        "kfold = KFold(n_splits=3)\n",
        "print('교차 검증 점수: \\n{}'.format(cross_val_score(logreg, iris['data'], iris['target'], cv=kfold)))"
      ],
      "execution_count": 12,
      "outputs": [
        {
          "output_type": "stream",
          "text": [
            "교차 검증 점수: \n",
            "[0. 0. 0.]\n"
          ],
          "name": "stdout"
        }
      ]
    },
    {
      "cell_type": "code",
      "metadata": {
        "id": "xQZsxO9H-ziV",
        "colab_type": "code",
        "outputId": "ef64b35c-aa2b-4f73-e715-afd469d51a83",
        "colab": {
          "base_uri": "https://localhost:8080/",
          "height": 53
        }
      },
      "source": [
        "# shuffle과 random_state 변수를 통해 제어\n",
        "kfold = KFold(n_splits=3, shuffle=True, random_state=0)\n",
        "print('교차 검증 점수: \\n{}'.format(cross_val_score(logreg, iris['data'], iris['target'], cv=3)))"
      ],
      "execution_count": 13,
      "outputs": [
        {
          "output_type": "stream",
          "text": [
            "교차 검증 점수: \n",
            "[0.98 0.96 0.98]\n"
          ],
          "name": "stdout"
        }
      ]
    },
    {
      "cell_type": "markdown",
      "metadata": {
        "id": "uQJcVCJJA4xM",
        "colab_type": "text"
      },
      "source": [
        "* LOOCV"
      ]
    },
    {
      "cell_type": "code",
      "metadata": {
        "id": "pXbsrAz-A5kM",
        "colab_type": "code",
        "outputId": "f521ffd1-d5d7-42c4-f9e8-4656ea084438",
        "colab": {
          "base_uri": "https://localhost:8080/",
          "height": 53
        }
      },
      "source": [
        "from sklearn.model_selection import LeaveOneOut\n",
        "loo = LeaveOneOut()\n",
        "scores = cross_val_score(logreg, iris.data, iris.target, cv=loo)\n",
        "print('교차 검증 분할 횟수: {}'.format(len(scores)))\n",
        "print('평균 정확도: {:.3f}'.format(scores.mean()))"
      ],
      "execution_count": 14,
      "outputs": [
        {
          "output_type": "stream",
          "text": [
            "교차 검증 분할 횟수: 150\n",
            "평균 정확도: 0.967\n"
          ],
          "name": "stdout"
        }
      ]
    },
    {
      "cell_type": "markdown",
      "metadata": {
        "id": "1R6ik-2lB7f6",
        "colab_type": "text"
      },
      "source": [
        "* 임의 분할 교차 검증"
      ]
    },
    {
      "cell_type": "code",
      "metadata": {
        "id": "xWSrtPvZB9Yj",
        "colab_type": "code",
        "outputId": "5cd2db80-455b-4722-e2b2-fe207de1ed18",
        "colab": {
          "base_uri": "https://localhost:8080/",
          "height": 153
        }
      },
      "source": [
        "mglearn.plots.plot_shuffle_split()"
      ],
      "execution_count": 15,
      "outputs": [
        {
          "output_type": "display_data",
          "data": {
            "image/png": "[encoded data removed]",
            "text/plain": [
              "<Figure size 720x144 with 1 Axes>"
            ]
          },
          "metadata": {
            "tags": []
          }
        }
      ]
    },
    {
      "cell_type": "code",
      "metadata": {
        "id": "_u92GTvhC3ST",
        "colab_type": "code",
        "outputId": "33a5ee7e-acf0-4a80-f677-b8437c036440",
        "colab": {
          "base_uri": "https://localhost:8080/",
          "height": 89
        }
      },
      "source": [
        "from sklearn.model_selection import ShuffleSplit\n",
        "shuffle_split = ShuffleSplit(test_size=.5, train_size=.5, n_splits=10)\n",
        "scores = cross_val_score(logreg, iris.data, iris.target, cv=shuffle_split)\n",
        "print('교차 검증 점수:\\n{}'.format(scores))\n",
        "print('교차 검증 평균 점수: {:.3f}'.format(scores.mean()))"
      ],
      "execution_count": 16,
      "outputs": [
        {
          "output_type": "stream",
          "text": [
            "교차 검증 점수:\n",
            "[0.96       0.94666667 0.94666667 0.97333333 0.94666667 1.\n",
            " 0.89333333 0.96       0.96       0.94666667]\n",
            "교차 검증 평균 점수: 0.953\n"
          ],
          "name": "stdout"
        }
      ]
    },
    {
      "cell_type": "code",
      "metadata": {
        "id": "JigBUdn-DZzE",
        "colab_type": "code",
        "outputId": "076f3895-4128-4610-8f9b-28458ae57892",
        "colab": {
          "base_uri": "https://localhost:8080/",
          "height": 89
        }
      },
      "source": [
        "from sklearn.model_selection import StratifiedShuffleSplit\n",
        "suffle_split = StratifiedShuffleSplit(test_size=.5, train_size=.5, n_splits=10)\n",
        "scores = cross_val_score(logreg, iris.data, iris.target, cv=shuffle_split)\n",
        "print('교차 검증 점수:\\n{}'.format(scores))\n",
        "print('교차 검증 평균 점수: {:.3f}'.format(scores.mean()))"
      ],
      "execution_count": 17,
      "outputs": [
        {
          "output_type": "stream",
          "text": [
            "교차 검증 점수:\n",
            "[0.96       0.97333333 0.97333333 0.94666667 0.97333333 0.98666667\n",
            " 0.98666667 0.94666667 0.96       0.96      ]\n",
            "교차 검증 평균 점수: 0.967\n"
          ],
          "name": "stdout"
        }
      ]
    },
    {
      "cell_type": "markdown",
      "metadata": {
        "id": "NMXARpteLLpK",
        "colab_type": "text"
      },
      "source": [
        "### 2-2. 그리드서치"
      ]
    },
    {
      "cell_type": "code",
      "metadata": {
        "id": "AZ0tVVF4LN2K",
        "colab_type": "code",
        "outputId": "a310751c-0d71-4577-fa0e-c1dd6961d9bf",
        "colab": {
          "base_uri": "https://localhost:8080/",
          "height": 0
        }
      },
      "source": [
        "from sklearn.svm import SVC\n",
        "X_train, X_test, y_train, y_test = train_test_split(iris['data'], iris['target'], random_state=0)\n",
        "print('훈련 세트의 크기: {}\\t테스트 세트의 크기: {}'.format(X_train.shape, X_test.shape))\n",
        "\n",
        "best_score = 0\n",
        "for gamma in [0.001, 0.01, 0.1, 1, 10, 100]:\n",
        "    for C in [0.001, 0.01, 0.1, 1, 10, 100]:\n",
        "        svm = SVC(gamma = gamma, C=C)\n",
        "        svm.fit(X_train, y_train)\n",
        "        score = svm.score(X_test, y_test)\n",
        "        if score > best_score:\n",
        "            best_score = score\n",
        "            best_parameters = {'C': C, 'gamma': gamma}\n",
        "print('최고 점수: {:.2f}'.format(best_score))\n",
        "print('최적 매개변수: {}'.format(best_parameters))"
      ],
      "execution_count": 18,
      "outputs": [
        {
          "output_type": "stream",
          "text": [
            "훈련 세트의 크기: (112, 4)\t테스트 세트의 크기: (38, 4)\n",
            "최고 점수: 0.97\n",
            "최적 매개변수: {'C': 100, 'gamma': 0.001}\n"
          ],
          "name": "stdout"
        }
      ]
    },
    {
      "cell_type": "markdown",
      "metadata": {
        "id": "lw3GppvDPfaa",
        "colab_type": "text"
      },
      "source": [
        "### 2-3. 검증 세트 활용"
      ]
    },
    {
      "cell_type": "code",
      "metadata": {
        "id": "XTZlC2-qN359",
        "colab_type": "code",
        "outputId": "99ca512b-8458-4c16-f267-e7e96c093374",
        "colab": {
          "base_uri": "https://localhost:8080/",
          "height": 0
        }
      },
      "source": [
        "mglearn.plots.plot_threefold_split()"
      ],
      "execution_count": 19,
      "outputs": [
        {
          "output_type": "display_data",
          "data": {
            "image/png": "[encoded data removed]",
            "text/plain": [
              "<Figure size 1080x72 with 1 Axes>"
            ]
          },
          "metadata": {
            "tags": []
          }
        }
      ]
    },
    {
      "cell_type": "code",
      "metadata": {
        "id": "NpUR30bzPezo",
        "colab_type": "code",
        "outputId": "eb2bb240-6dd7-4795-b4d4-f34becf0e6b4",
        "colab": {
          "base_uri": "https://localhost:8080/",
          "height": 0
        }
      },
      "source": [
        "from sklearn.svm import SVC\n",
        "# [훈련+검증], [테스트] 세트로 분할\n",
        "X_trainval, X_test, y_trainval, y_test = train_test_split(iris.data, iris.target, random_state=0)\n",
        "# [훈련+검증] 세트 -> [훈련], [검증] 세트로 분할\n",
        "X_train, X_valid, y_train, y_valid = train_test_split(X_trainval, y_trainval, random_state=1)\n",
        "print('훈련 세트의 크기: {}\\t검증 세트의 크기: {}\\t테스트 세트의 크기: {}'.format(X_train.shape[0], X_valid.shape[0], X_test.shape[0]))\n",
        "print('- - - - - - - - - - - - - - - - - - - - - - - - - - - - - - - - - - - - - - - - - - - - - - - - - - -')\n",
        "best_score = 0\n",
        "\n",
        "for gamma in [0.001, 0.01, 0.1, 1, 10, 100]:\n",
        "    for C in [0.001, 0.01, 0.1, 1, 10, 100]:\n",
        "        # 매개변수 전달\n",
        "        svm = SVC(gamma=gamma, C=C)\n",
        "        # 모델 피팅\n",
        "        svm.fit(X_train, y_train)\n",
        "        # 검증 세트로 모델 평가\n",
        "        score = svm.score(X_valid, y_valid)\n",
        "        if score > best_score:\n",
        "            best_score = score\n",
        "            best_parameters = {'gamma': gamma, 'C': C}\n",
        "print('검증 세트에서 최고 점수: {:.3f}'.format(best_score))\n",
        "print('최적 매개변수: {}'.format(best_parameters))\n",
        "print('- - - - - - - - - - - - - - - - - - - - - - - - - - - - - - - - - - - - - - - - - - - - - - - - - - -')\n",
        "# 훈련+검증 세트 생성 후 테스트 세트를 사용하여 평가\n",
        "svm = SVC(**best_parameters)\n",
        "svm.fit(X_trainval, y_trainval)\n",
        "test_score = svm.score(X_test, y_test)\n",
        "print('최적 매개변수에서 테스트 세트 점수: {:.3f}'.format(svm.score(X_test, y_test)))"
      ],
      "execution_count": 20,
      "outputs": [
        {
          "output_type": "stream",
          "text": [
            "훈련 세트의 크기: 84\t검증 세트의 크기: 28\t테스트 세트의 크기: 38\n",
            "- - - - - - - - - - - - - - - - - - - - - - - - - - - - - - - - - - - - - - - - - - - - - - - - - - -\n",
            "검증 세트에서 최고 점수: 0.964\n",
            "최적 매개변수: {'gamma': 0.001, 'C': 10}\n",
            "- - - - - - - - - - - - - - - - - - - - - - - - - - - - - - - - - - - - - - - - - - - - - - - - - - -\n",
            "최적 매개변수에서 테스트 세트 점수: 0.921\n"
          ],
          "name": "stdout"
        }
      ]
    },
    {
      "cell_type": "markdown",
      "metadata": {
        "id": "7BK5ICGkV3gt",
        "colab_type": "text"
      },
      "source": [
        "* 교차 검증을 사용한 그리드 서치"
      ]
    },
    {
      "cell_type": "code",
      "metadata": {
        "id": "WGzC7GO_V77N",
        "colab_type": "code",
        "outputId": "ba439f28-06bf-4b9b-936b-e53cee31c44f",
        "colab": {
          "base_uri": "https://localhost:8080/",
          "height": 0
        }
      },
      "source": [
        "best_score = 0\n",
        "for gamma in [0.001, 0.01, 0.1, 1, 10, 100]:\n",
        "    for C in [0.001, 0.01, 0.1, 1, 10, 100]:\n",
        "        svm = SVC(gamma=gamma, C=C)\n",
        "        # 교차 검증 적용\n",
        "        scores = cross_val_score(svm, X_trainval, y_trainval, cv=5)\n",
        "        # 교차 검증 정확도의 평균 계산\n",
        "        score = np.mean(scores)\n",
        "        if score > best_score:\n",
        "            best_score = score\n",
        "            best_parameters = {'C': C, 'gamma': gamma}\n",
        "svm = SVC(**best_parameters)\n",
        "svm.fit(X_trainval, y_trainval)\n",
        "print('{:.3f}'.format(best_score))\n",
        "print(best_parameters)"
      ],
      "execution_count": 21,
      "outputs": [
        {
          "output_type": "stream",
          "text": [
            "0.973\n",
            "{'C': 10, 'gamma': 0.1}\n"
          ],
          "name": "stdout"
        }
      ]
    },
    {
      "cell_type": "code",
      "metadata": {
        "id": "K_ND8ErEXr6N",
        "colab_type": "code",
        "outputId": "39959586-d00c-482a-f7d5-248b48c4c739",
        "colab": {
          "base_uri": "https://localhost:8080/",
          "height": 0
        }
      },
      "source": [
        "mglearn.plots.plot_cross_val_selection()"
      ],
      "execution_count": 22,
      "outputs": [
        {
          "output_type": "display_data",
          "data": {
            "image/png": "[encoded data removed]",
            "text/plain": [
              "<Figure size 720x216 with 1 Axes>"
            ]
          },
          "metadata": {
            "tags": []
          }
        }
      ]
    },
    {
      "cell_type": "code",
      "metadata": {
        "id": "4ZLFWv7YYSH9",
        "colab_type": "code",
        "outputId": "7b44b978-dd86-49f7-c3d1-794a01c4e0f9",
        "colab": {
          "base_uri": "https://localhost:8080/",
          "height": 0
        }
      },
      "source": [
        "mglearn.plots.plot_grid_search_overview()"
      ],
      "execution_count": 23,
      "outputs": [
        {
          "output_type": "display_data",
          "data": {
            "image/png": "[encoded data removed]",
            "text/plain": [
              "<Figure size 700x210 with 1 Axes>"
            ]
          },
          "metadata": {
            "tags": []
          }
        }
      ]
    },
    {
      "cell_type": "markdown",
      "metadata": {
        "id": "Qj-pzvANYskE",
        "colab_type": "text"
      },
      "source": [
        "* GridSearchCV 실습"
      ]
    },
    {
      "cell_type": "code",
      "metadata": {
        "id": "ML-1XAHdYrus",
        "colab_type": "code",
        "outputId": "6f56eba9-33ef-4610-886c-829da4c9fa8d",
        "colab": {
          "base_uri": "https://localhost:8080/",
          "height": 0
        }
      },
      "source": [
        "param_grid = {'C': [0.001, 0.01, 0.1, 1, 10, 100],\n",
        "                        'gamma': [0.001, 0.01, 0.1, 1, 10, 100]}\n",
        "print('매개변수 그리드: {}'.format(param_grid))"
      ],
      "execution_count": 24,
      "outputs": [
        {
          "output_type": "stream",
          "text": [
            "매개변수 그리드: {'C': [0.001, 0.01, 0.1, 1, 10, 100], 'gamma': [0.001, 0.01, 0.1, 1, 10, 100]}\n"
          ],
          "name": "stdout"
        }
      ]
    },
    {
      "cell_type": "code",
      "metadata": {
        "id": "kMjSMs4nZKpl",
        "colab_type": "code",
        "colab": {}
      },
      "source": [
        "# 모델: SVC // 매개변수 그리드: param_grid // 교차 검증: 5-fold cross validation\n",
        "from sklearn.model_selection import GridSearchCV\n",
        "from sklearn.svm import SVC\n",
        "grid_search = GridSearchCV(SVC(), param_grid, cv=5)"
      ],
      "execution_count": 0,
      "outputs": []
    },
    {
      "cell_type": "code",
      "metadata": {
        "id": "npAjwqw9ZfcV",
        "colab_type": "code",
        "colab": {}
      },
      "source": [
        "X_train, X_test, y_train, y_test = train_test_split(iris.data, iris.target, random_state=0)"
      ],
      "execution_count": 0,
      "outputs": []
    },
    {
      "cell_type": "code",
      "metadata": {
        "id": "8-lZcYEzZurt",
        "colab_type": "code",
        "outputId": "e2470a5a-6906-4b04-8625-55d4a4d9f71e",
        "colab": {
          "base_uri": "https://localhost:8080/",
          "height": 0
        }
      },
      "source": [
        "grid_search.fit(X_train, y_train)"
      ],
      "execution_count": 27,
      "outputs": [
        {
          "output_type": "execute_result",
          "data": {
            "text/plain": [
              "GridSearchCV(cv=5, error_score=nan,\n",
              "             estimator=SVC(C=1.0, break_ties=False, cache_size=200,\n",
              "                           class_weight=None, coef0=0.0,\n",
              "                           decision_function_shape='ovr', degree=3,\n",
              "                           gamma='scale', kernel='rbf', max_iter=-1,\n",
              "                           probability=False, random_state=None, shrinking=True,\n",
              "                           tol=0.001, verbose=False),\n",
              "             iid='deprecated', n_jobs=None,\n",
              "             param_grid={'C': [0.001, 0.01, 0.1, 1, 10, 100],\n",
              "                         'gamma': [0.001, 0.01, 0.1, 1, 10, 100]},\n",
              "             pre_dispatch='2*n_jobs', refit=True, return_train_score=False,\n",
              "             scoring=None, verbose=0)"
            ]
          },
          "metadata": {
            "tags": []
          },
          "execution_count": 27
        }
      ]
    },
    {
      "cell_type": "code",
      "metadata": {
        "id": "HK2G2AZucNil",
        "colab_type": "code",
        "outputId": "7d1bb925-a8ec-484c-a82e-2f1c43301ed0",
        "colab": {
          "base_uri": "https://localhost:8080/",
          "height": 0
        }
      },
      "source": [
        "print('테스트 세트 점수: {:.3f}'.format(grid_search.score(X_test, y_test)))\n",
        "print('- - - - - - - - - - - - - - - - - - - - - - - - - - - - ')\n",
        "print('최적 매개변수: {}'.format(grid_search.best_params_))\n",
        "print('최상 교차 검증 점수: {:.3f}'.format(grid_search.best_score_))"
      ],
      "execution_count": 28,
      "outputs": [
        {
          "output_type": "stream",
          "text": [
            "테스트 세트 점수: 0.974\n",
            "- - - - - - - - - - - - - - - - - - - - - - - - - - - - \n",
            "최적 매개변수: {'C': 10, 'gamma': 0.1}\n",
            "최상 교차 검증 점수: 0.973\n"
          ],
          "name": "stdout"
        }
      ]
    },
    {
      "cell_type": "markdown",
      "metadata": {
        "id": "kb_jgxahefGJ",
        "colab_type": "text"
      },
      "source": [
        "* 교차 검증 결과 분석"
      ]
    },
    {
      "cell_type": "code",
      "metadata": {
        "id": "GjsXeSKRegWG",
        "colab_type": "code",
        "outputId": "57dc24dc-558e-47ce-ba4c-65c016cd3371",
        "colab": {
          "base_uri": "https://localhost:8080/",
          "height": 0
        }
      },
      "source": [
        "results = pd.DataFrame(grid_search.cv_results_)\n",
        "results.head()"
      ],
      "execution_count": 29,
      "outputs": [
        {
          "output_type": "execute_result",
          "data": {
            "text/html": [
              "<div>\n",
              "<style scoped>\n",
              "    .dataframe tbody tr th:only-of-type {\n",
              "        vertical-align: middle;\n",
              "    }\n",
              "\n",
              "    .dataframe tbody tr th {\n",
              "        vertical-align: top;\n",
              "    }\n",
              "\n",
              "    .dataframe thead th {\n",
              "        text-align: right;\n",
              "    }\n",
              "</style>\n",
              "<table border=\"1\" class=\"dataframe\">\n",
              "  <thead>\n",
              "    <tr style=\"text-align: right;\">\n",
              "      <th></th>\n",
              "      <th>mean_fit_time</th>\n",
              "      <th>std_fit_time</th>\n",
              "      <th>mean_score_time</th>\n",
              "      <th>std_score_time</th>\n",
              "      <th>param_C</th>\n",
              "      <th>param_gamma</th>\n",
              "      <th>params</th>\n",
              "      <th>split0_test_score</th>\n",
              "      <th>split1_test_score</th>\n",
              "      <th>split2_test_score</th>\n",
              "      <th>split3_test_score</th>\n",
              "      <th>split4_test_score</th>\n",
              "      <th>mean_test_score</th>\n",
              "      <th>std_test_score</th>\n",
              "      <th>rank_test_score</th>\n",
              "    </tr>\n",
              "  </thead>\n",
              "  <tbody>\n",
              "    <tr>\n",
              "      <th>0</th>\n",
              "      <td>0.001630</td>\n",
              "      <td>0.000089</td>\n",
              "      <td>0.000740</td>\n",
              "      <td>0.000084</td>\n",
              "      <td>0.001</td>\n",
              "      <td>0.001</td>\n",
              "      <td>{'C': 0.001, 'gamma': 0.001}</td>\n",
              "      <td>0.347826</td>\n",
              "      <td>0.347826</td>\n",
              "      <td>0.363636</td>\n",
              "      <td>0.363636</td>\n",
              "      <td>0.409091</td>\n",
              "      <td>0.366403</td>\n",
              "      <td>0.022485</td>\n",
              "      <td>22</td>\n",
              "    </tr>\n",
              "    <tr>\n",
              "      <th>1</th>\n",
              "      <td>0.001035</td>\n",
              "      <td>0.000315</td>\n",
              "      <td>0.000467</td>\n",
              "      <td>0.000189</td>\n",
              "      <td>0.001</td>\n",
              "      <td>0.01</td>\n",
              "      <td>{'C': 0.001, 'gamma': 0.01}</td>\n",
              "      <td>0.347826</td>\n",
              "      <td>0.347826</td>\n",
              "      <td>0.363636</td>\n",
              "      <td>0.363636</td>\n",
              "      <td>0.409091</td>\n",
              "      <td>0.366403</td>\n",
              "      <td>0.022485</td>\n",
              "      <td>22</td>\n",
              "    </tr>\n",
              "    <tr>\n",
              "      <th>2</th>\n",
              "      <td>0.000787</td>\n",
              "      <td>0.000049</td>\n",
              "      <td>0.000333</td>\n",
              "      <td>0.000012</td>\n",
              "      <td>0.001</td>\n",
              "      <td>0.1</td>\n",
              "      <td>{'C': 0.001, 'gamma': 0.1}</td>\n",
              "      <td>0.347826</td>\n",
              "      <td>0.347826</td>\n",
              "      <td>0.363636</td>\n",
              "      <td>0.363636</td>\n",
              "      <td>0.409091</td>\n",
              "      <td>0.366403</td>\n",
              "      <td>0.022485</td>\n",
              "      <td>22</td>\n",
              "    </tr>\n",
              "    <tr>\n",
              "      <th>3</th>\n",
              "      <td>0.000772</td>\n",
              "      <td>0.000030</td>\n",
              "      <td>0.000334</td>\n",
              "      <td>0.000009</td>\n",
              "      <td>0.001</td>\n",
              "      <td>1</td>\n",
              "      <td>{'C': 0.001, 'gamma': 1}</td>\n",
              "      <td>0.347826</td>\n",
              "      <td>0.347826</td>\n",
              "      <td>0.363636</td>\n",
              "      <td>0.363636</td>\n",
              "      <td>0.409091</td>\n",
              "      <td>0.366403</td>\n",
              "      <td>0.022485</td>\n",
              "      <td>22</td>\n",
              "    </tr>\n",
              "    <tr>\n",
              "      <th>4</th>\n",
              "      <td>0.000817</td>\n",
              "      <td>0.000072</td>\n",
              "      <td>0.000343</td>\n",
              "      <td>0.000012</td>\n",
              "      <td>0.001</td>\n",
              "      <td>10</td>\n",
              "      <td>{'C': 0.001, 'gamma': 10}</td>\n",
              "      <td>0.347826</td>\n",
              "      <td>0.347826</td>\n",
              "      <td>0.363636</td>\n",
              "      <td>0.363636</td>\n",
              "      <td>0.409091</td>\n",
              "      <td>0.366403</td>\n",
              "      <td>0.022485</td>\n",
              "      <td>22</td>\n",
              "    </tr>\n",
              "  </tbody>\n",
              "</table>\n",
              "</div>"
            ],
            "text/plain": [
              "   mean_fit_time  std_fit_time  ...  std_test_score  rank_test_score\n",
              "0       0.001630      0.000089  ...        0.022485               22\n",
              "1       0.001035      0.000315  ...        0.022485               22\n",
              "2       0.000787      0.000049  ...        0.022485               22\n",
              "3       0.000772      0.000030  ...        0.022485               22\n",
              "4       0.000817      0.000072  ...        0.022485               22\n",
              "\n",
              "[5 rows x 15 columns]"
            ]
          },
          "metadata": {
            "tags": []
          },
          "execution_count": 29
        }
      ]
    },
    {
      "cell_type": "code",
      "metadata": {
        "id": "ZeHHe2ZbgfRP",
        "colab_type": "code",
        "outputId": "4163c891-344f-461a-9a8c-a869c8fc2663",
        "colab": {
          "base_uri": "https://localhost:8080/",
          "height": 0
        }
      },
      "source": [
        "scores = np.array(results.mean_test_score).reshape(6, 6)\n",
        "plt.figure(figsize=(7,7))\n",
        "mglearn.tools.heatmap(scores, xlabel='gamma', xticklabels=param_grid['gamma'], ylabel='C', yticklabels=param_grid['C'], cmap='summer_r')"
      ],
      "execution_count": 30,
      "outputs": [
        {
          "output_type": "execute_result",
          "data": {
            "text/plain": [
              "<matplotlib.collections.PolyCollection at 0x7f05bb952828>"
            ]
          },
          "metadata": {
            "tags": []
          },
          "execution_count": 30
        },
        {
          "output_type": "display_data",
          "data": {
            "image/png": "[encoded data removed]",
            "text/plain": [
              "<Figure size 504x504 with 1 Axes>"
            ]
          },
          "metadata": {
            "tags": []
          }
        }
      ]
    },
    {
      "cell_type": "code",
      "metadata": {
        "id": "zunn0s_EkTNX",
        "colab_type": "code",
        "outputId": "4d2cd284-b556-4426-dae3-b96a145968c0",
        "colab": {
          "base_uri": "https://localhost:8080/",
          "height": 0
        }
      },
      "source": [
        "# 매개변수 범위 잘못 설정한 예\n",
        "fig, axes = plt.subplots(1, 3, figsize=(13, 5))\n",
        "\n",
        "param_grid_linear = {'C': np.linspace(1, 2, 6),\n",
        "                     'gamma':  np.linspace(1, 2, 6)}\n",
        "\n",
        "param_grid_one_log = {'C': np.linspace(1, 2, 6),\n",
        "                     'gamma':  np.logspace(-3, 2, 6)}\n",
        "\n",
        "param_grid_range = {'C': np.logspace(-3, 2, 6),\n",
        "                     'gamma':  np.logspace(-7, -2, 6)}\n",
        "\n",
        "for param_grid, ax in zip([param_grid_linear, param_grid_one_log,\n",
        "                           param_grid_range], axes):\n",
        "    grid_search = GridSearchCV(SVC(), param_grid, cv=5)\n",
        "    grid_search.fit(X_train, y_train)\n",
        "    scores = grid_search.cv_results_['mean_test_score'].reshape(6, 6)\n",
        "\n",
        "    # 교차 검증 평균 점수의 히트맵 그래프\n",
        "    scores_image = mglearn.tools.heatmap(\n",
        "        scores, xlabel='gamma', ylabel='C', xticklabels=param_grid['gamma'],\n",
        "        yticklabels=param_grid['C'], cmap=\"viridis\", ax=ax)\n",
        "    \n",
        "plt.colorbar(scores_image, ax=axes.tolist())"
      ],
      "execution_count": 31,
      "outputs": [
        {
          "output_type": "execute_result",
          "data": {
            "text/plain": [
              "<matplotlib.colorbar.Colorbar at 0x7f05bba28ac8>"
            ]
          },
          "metadata": {
            "tags": []
          },
          "execution_count": 31
        },
        {
          "output_type": "display_data",
          "data": {
            "image/png": "[encoded data removed]",
            "text/plain": [
              "<Figure size 936x360 with 4 Axes>"
            ]
          },
          "metadata": {
            "tags": []
          }
        }
      ]
    },
    {
      "cell_type": "markdown",
      "metadata": {
        "id": "krmmWbcgmjhk",
        "colab_type": "text"
      },
      "source": [
        "* 비대칭 매개변수 그리드 탐색"
      ]
    },
    {
      "cell_type": "code",
      "metadata": {
        "id": "RqiZfak3mlP2",
        "colab_type": "code",
        "outputId": "31b70889-a5df-49c9-cbb3-7a8b0aeea343",
        "colab": {
          "base_uri": "https://localhost:8080/",
          "height": 0
        }
      },
      "source": [
        "param_grid = [{'kernel': ['rbf'],\n",
        "               'C': [0.001, 0.01, 0.1, 1, 10, 100],\n",
        "               'gamma': [0.001, 0.01, 0.1, 1, 10, 100]},\n",
        "              {'kernel': ['linear'],\n",
        "               'C': [0.001, 0.01, 0.1, 1, 10, 100]}]\n",
        "print(\"그리드 목록:\\n\", param_grid)"
      ],
      "execution_count": 32,
      "outputs": [
        {
          "output_type": "stream",
          "text": [
            "그리드 목록:\n",
            " [{'kernel': ['rbf'], 'C': [0.001, 0.01, 0.1, 1, 10, 100], 'gamma': [0.001, 0.01, 0.1, 1, 10, 100]}, {'kernel': ['linear'], 'C': [0.001, 0.01, 0.1, 1, 10, 100]}]\n"
          ],
          "name": "stdout"
        }
      ]
    },
    {
      "cell_type": "code",
      "metadata": {
        "id": "PRDF3YJJmmnv",
        "colab_type": "code",
        "outputId": "3b0598d9-e203-42e9-ba3b-587a0febfe40",
        "colab": {
          "base_uri": "https://localhost:8080/",
          "height": 0
        }
      },
      "source": [
        "grid_search = GridSearchCV(SVC(), param_grid, cv=5, return_train_score=True)\n",
        "grid_search.fit(X_train, y_train)\n",
        "print(\"최적 파라미터:\", grid_search.best_params_)\n",
        "print(\"최고 교차 검증 점수: {:.2f}\".format(grid_search.best_score_))"
      ],
      "execution_count": 33,
      "outputs": [
        {
          "output_type": "stream",
          "text": [
            "최적 파라미터: {'C': 10, 'gamma': 0.1, 'kernel': 'rbf'}\n",
            "최고 교차 검증 점수: 0.97\n"
          ],
          "name": "stdout"
        }
      ]
    },
    {
      "cell_type": "code",
      "metadata": {
        "id": "UNdWqs6tm3u2",
        "colab_type": "code",
        "outputId": "676df0bc-2f57-4f82-f9df-2aefa4def0c5",
        "colab": {
          "base_uri": "https://localhost:8080/",
          "height": 0
        }
      },
      "source": [
        "results = pd.DataFrame(grid_search.cv_results_)\n",
        "results.head().T"
      ],
      "execution_count": 34,
      "outputs": [
        {
          "output_type": "execute_result",
          "data": {
            "text/html": [
              "<div>\n",
              "<style scoped>\n",
              "    .dataframe tbody tr th:only-of-type {\n",
              "        vertical-align: middle;\n",
              "    }\n",
              "\n",
              "    .dataframe tbody tr th {\n",
              "        vertical-align: top;\n",
              "    }\n",
              "\n",
              "    .dataframe thead th {\n",
              "        text-align: right;\n",
              "    }\n",
              "</style>\n",
              "<table border=\"1\" class=\"dataframe\">\n",
              "  <thead>\n",
              "    <tr style=\"text-align: right;\">\n",
              "      <th></th>\n",
              "      <th>0</th>\n",
              "      <th>1</th>\n",
              "      <th>2</th>\n",
              "      <th>3</th>\n",
              "      <th>4</th>\n",
              "    </tr>\n",
              "  </thead>\n",
              "  <tbody>\n",
              "    <tr>\n",
              "      <th>mean_fit_time</th>\n",
              "      <td>0.0014957</td>\n",
              "      <td>0.00102439</td>\n",
              "      <td>0.000787544</td>\n",
              "      <td>0.000805902</td>\n",
              "      <td>0.000749063</td>\n",
              "    </tr>\n",
              "    <tr>\n",
              "      <th>std_fit_time</th>\n",
              "      <td>0.00017887</td>\n",
              "      <td>0.000254875</td>\n",
              "      <td>1.15876e-05</td>\n",
              "      <td>5.71746e-05</td>\n",
              "      <td>8.2541e-06</td>\n",
              "    </tr>\n",
              "    <tr>\n",
              "      <th>mean_score_time</th>\n",
              "      <td>0.000662231</td>\n",
              "      <td>0.000456381</td>\n",
              "      <td>0.000349474</td>\n",
              "      <td>0.000335693</td>\n",
              "      <td>0.000338364</td>\n",
              "    </tr>\n",
              "    <tr>\n",
              "      <th>std_score_time</th>\n",
              "      <td>7.37659e-05</td>\n",
              "      <td>0.000114554</td>\n",
              "      <td>5.31711e-06</td>\n",
              "      <td>1.00159e-05</td>\n",
              "      <td>2.29378e-06</td>\n",
              "    </tr>\n",
              "    <tr>\n",
              "      <th>param_C</th>\n",
              "      <td>0.001</td>\n",
              "      <td>0.001</td>\n",
              "      <td>0.001</td>\n",
              "      <td>0.001</td>\n",
              "      <td>0.001</td>\n",
              "    </tr>\n",
              "    <tr>\n",
              "      <th>param_gamma</th>\n",
              "      <td>0.001</td>\n",
              "      <td>0.01</td>\n",
              "      <td>0.1</td>\n",
              "      <td>1</td>\n",
              "      <td>10</td>\n",
              "    </tr>\n",
              "    <tr>\n",
              "      <th>param_kernel</th>\n",
              "      <td>rbf</td>\n",
              "      <td>rbf</td>\n",
              "      <td>rbf</td>\n",
              "      <td>rbf</td>\n",
              "      <td>rbf</td>\n",
              "    </tr>\n",
              "    <tr>\n",
              "      <th>params</th>\n",
              "      <td>{'C': 0.001, 'gamma': 0.001, 'kernel': 'rbf'}</td>\n",
              "      <td>{'C': 0.001, 'gamma': 0.01, 'kernel': 'rbf'}</td>\n",
              "      <td>{'C': 0.001, 'gamma': 0.1, 'kernel': 'rbf'}</td>\n",
              "      <td>{'C': 0.001, 'gamma': 1, 'kernel': 'rbf'}</td>\n",
              "      <td>{'C': 0.001, 'gamma': 10, 'kernel': 'rbf'}</td>\n",
              "    </tr>\n",
              "    <tr>\n",
              "      <th>split0_test_score</th>\n",
              "      <td>0.347826</td>\n",
              "      <td>0.347826</td>\n",
              "      <td>0.347826</td>\n",
              "      <td>0.347826</td>\n",
              "      <td>0.347826</td>\n",
              "    </tr>\n",
              "    <tr>\n",
              "      <th>split1_test_score</th>\n",
              "      <td>0.347826</td>\n",
              "      <td>0.347826</td>\n",
              "      <td>0.347826</td>\n",
              "      <td>0.347826</td>\n",
              "      <td>0.347826</td>\n",
              "    </tr>\n",
              "    <tr>\n",
              "      <th>split2_test_score</th>\n",
              "      <td>0.363636</td>\n",
              "      <td>0.363636</td>\n",
              "      <td>0.363636</td>\n",
              "      <td>0.363636</td>\n",
              "      <td>0.363636</td>\n",
              "    </tr>\n",
              "    <tr>\n",
              "      <th>split3_test_score</th>\n",
              "      <td>0.363636</td>\n",
              "      <td>0.363636</td>\n",
              "      <td>0.363636</td>\n",
              "      <td>0.363636</td>\n",
              "      <td>0.363636</td>\n",
              "    </tr>\n",
              "    <tr>\n",
              "      <th>split4_test_score</th>\n",
              "      <td>0.409091</td>\n",
              "      <td>0.409091</td>\n",
              "      <td>0.409091</td>\n",
              "      <td>0.409091</td>\n",
              "      <td>0.409091</td>\n",
              "    </tr>\n",
              "    <tr>\n",
              "      <th>mean_test_score</th>\n",
              "      <td>0.366403</td>\n",
              "      <td>0.366403</td>\n",
              "      <td>0.366403</td>\n",
              "      <td>0.366403</td>\n",
              "      <td>0.366403</td>\n",
              "    </tr>\n",
              "    <tr>\n",
              "      <th>std_test_score</th>\n",
              "      <td>0.0224845</td>\n",
              "      <td>0.0224845</td>\n",
              "      <td>0.0224845</td>\n",
              "      <td>0.0224845</td>\n",
              "      <td>0.0224845</td>\n",
              "    </tr>\n",
              "    <tr>\n",
              "      <th>rank_test_score</th>\n",
              "      <td>27</td>\n",
              "      <td>27</td>\n",
              "      <td>27</td>\n",
              "      <td>27</td>\n",
              "      <td>27</td>\n",
              "    </tr>\n",
              "    <tr>\n",
              "      <th>split0_train_score</th>\n",
              "      <td>0.370787</td>\n",
              "      <td>0.370787</td>\n",
              "      <td>0.370787</td>\n",
              "      <td>0.370787</td>\n",
              "      <td>0.370787</td>\n",
              "    </tr>\n",
              "    <tr>\n",
              "      <th>split1_train_score</th>\n",
              "      <td>0.370787</td>\n",
              "      <td>0.370787</td>\n",
              "      <td>0.370787</td>\n",
              "      <td>0.370787</td>\n",
              "      <td>0.370787</td>\n",
              "    </tr>\n",
              "    <tr>\n",
              "      <th>split2_train_score</th>\n",
              "      <td>0.366667</td>\n",
              "      <td>0.366667</td>\n",
              "      <td>0.366667</td>\n",
              "      <td>0.366667</td>\n",
              "      <td>0.366667</td>\n",
              "    </tr>\n",
              "    <tr>\n",
              "      <th>split3_train_score</th>\n",
              "      <td>0.366667</td>\n",
              "      <td>0.366667</td>\n",
              "      <td>0.366667</td>\n",
              "      <td>0.366667</td>\n",
              "      <td>0.366667</td>\n",
              "    </tr>\n",
              "    <tr>\n",
              "      <th>split4_train_score</th>\n",
              "      <td>0.355556</td>\n",
              "      <td>0.355556</td>\n",
              "      <td>0.355556</td>\n",
              "      <td>0.355556</td>\n",
              "      <td>0.355556</td>\n",
              "    </tr>\n",
              "    <tr>\n",
              "      <th>mean_train_score</th>\n",
              "      <td>0.366092</td>\n",
              "      <td>0.366092</td>\n",
              "      <td>0.366092</td>\n",
              "      <td>0.366092</td>\n",
              "      <td>0.366092</td>\n",
              "    </tr>\n",
              "    <tr>\n",
              "      <th>std_train_score</th>\n",
              "      <td>0.00558129</td>\n",
              "      <td>0.00558129</td>\n",
              "      <td>0.00558129</td>\n",
              "      <td>0.00558129</td>\n",
              "      <td>0.00558129</td>\n",
              "    </tr>\n",
              "  </tbody>\n",
              "</table>\n",
              "</div>"
            ],
            "text/plain": [
              "                                                                0  ...                                           4\n",
              "mean_fit_time                                           0.0014957  ...                                 0.000749063\n",
              "std_fit_time                                           0.00017887  ...                                  8.2541e-06\n",
              "mean_score_time                                       0.000662231  ...                                 0.000338364\n",
              "std_score_time                                        7.37659e-05  ...                                 2.29378e-06\n",
              "param_C                                                     0.001  ...                                       0.001\n",
              "param_gamma                                                 0.001  ...                                          10\n",
              "param_kernel                                                  rbf  ...                                         rbf\n",
              "params              {'C': 0.001, 'gamma': 0.001, 'kernel': 'rbf'}  ...  {'C': 0.001, 'gamma': 10, 'kernel': 'rbf'}\n",
              "split0_test_score                                        0.347826  ...                                    0.347826\n",
              "split1_test_score                                        0.347826  ...                                    0.347826\n",
              "split2_test_score                                        0.363636  ...                                    0.363636\n",
              "split3_test_score                                        0.363636  ...                                    0.363636\n",
              "split4_test_score                                        0.409091  ...                                    0.409091\n",
              "mean_test_score                                          0.366403  ...                                    0.366403\n",
              "std_test_score                                          0.0224845  ...                                   0.0224845\n",
              "rank_test_score                                                27  ...                                          27\n",
              "split0_train_score                                       0.370787  ...                                    0.370787\n",
              "split1_train_score                                       0.370787  ...                                    0.370787\n",
              "split2_train_score                                       0.366667  ...                                    0.366667\n",
              "split3_train_score                                       0.366667  ...                                    0.366667\n",
              "split4_train_score                                       0.355556  ...                                    0.355556\n",
              "mean_train_score                                         0.366092  ...                                    0.366092\n",
              "std_train_score                                        0.00558129  ...                                  0.00558129\n",
              "\n",
              "[23 rows x 5 columns]"
            ]
          },
          "metadata": {
            "tags": []
          },
          "execution_count": 34
        }
      ]
    },
    {
      "cell_type": "markdown",
      "metadata": {
        "id": "a9xdWthXpiWv",
        "colab_type": "text"
      },
      "source": [
        "* 중첩 교차 검증"
      ]
    },
    {
      "cell_type": "code",
      "metadata": {
        "id": "jyITTnw2phz4",
        "colab_type": "code",
        "outputId": "a33805f2-8789-4c1f-c4e0-c9c521bc3a63",
        "colab": {
          "base_uri": "https://localhost:8080/",
          "height": 0
        }
      },
      "source": [
        "param_grid = {'C': [0.001, 0.01, 0.1, 1, 10, 100],\n",
        "              'gamma': [0.001, 0.01, 0.1, 1, 10, 100]}\n",
        "scores = cross_val_score(GridSearchCV(SVC(), param_grid, cv=5),\n",
        "                         iris.data, iris.target, cv=5)\n",
        "print(\"교차 검증 점수: \", scores)\n",
        "print(\"교차 검증 평균 점수: {:.3f}\".format(scores.mean()))\n",
        "print(param_grid)"
      ],
      "execution_count": 35,
      "outputs": [
        {
          "output_type": "stream",
          "text": [
            "교차 검증 점수:  [0.96666667 1.         0.96666667 0.96666667 1.        ]\n",
            "교차 검증 평균 점수: 0.980\n",
            "{'C': [0.001, 0.01, 0.1, 1, 10, 100], 'gamma': [0.001, 0.01, 0.1, 1, 10, 100]}\n"
          ],
          "name": "stdout"
        }
      ]
    },
    {
      "cell_type": "markdown",
      "metadata": {
        "id": "MWyMDRvoJRbg",
        "colab_type": "text"
      },
      "source": [
        "# 3. Blobs"
      ]
    },
    {
      "cell_type": "markdown",
      "metadata": {
        "id": "Qte1U40qJLXL",
        "colab_type": "text"
      },
      "source": [
        "### 3-1. 그룹별 교차 검증"
      ]
    },
    {
      "cell_type": "code",
      "metadata": {
        "id": "-nTQh1k7JMt_",
        "colab_type": "code",
        "outputId": "ff0a6843-410d-4a7f-aafa-f109cd9aca0e",
        "colab": {
          "base_uri": "https://localhost:8080/",
          "height": 71
        }
      },
      "source": [
        "from sklearn.datasets import make_blobs\n",
        "from sklearn.model_selection import GroupKFold\n",
        "X, y = make_blobs(n_samples=12, random_state=0)\n",
        "groups = [0, 0, 0, 1, 1, 1, 1, 2, 2, 3, 3, 3]\n",
        "scores = cross_val_score(logreg, X, y, groups, cv=GroupKFold(n_splits=3))\n",
        "print('교차 검증 점수:\\n{}'.format(scores))\n",
        "print('교차 검증 평균 점수: {:.3f}'.format(scores.mean()))"
      ],
      "execution_count": 86,
      "outputs": [
        {
          "output_type": "stream",
          "text": [
            "교차 검증 점수:\n",
            "[0.75       0.4        0.66666667]\n",
            "교차 검증 평균 점수: 0.606\n"
          ],
          "name": "stdout"
        }
      ]
    },
    {
      "cell_type": "code",
      "metadata": {
        "id": "zWpUV9Y0KG8u",
        "colab_type": "code",
        "outputId": "992ed492-6299-450f-c120-cac6fa6f0848",
        "colab": {
          "base_uri": "https://localhost:8080/",
          "height": 153
        }
      },
      "source": [
        "mglearn.plots.plot_group_kfold()"
      ],
      "execution_count": 87,
      "outputs": [
        {
          "output_type": "display_data",
          "data": {
            "image/png": "[encoded data removed]",
            "text/plain": [
              "<Figure size 720x144 with 1 Axes>"
            ]
          },
          "metadata": {
            "tags": []
          }
        }
      ]
    },
    {
      "cell_type": "markdown",
      "metadata": {
        "id": "VmHEt5qvrjUh",
        "colab_type": "text"
      },
      "source": [
        "### 3-2. 불확실성"
      ]
    },
    {
      "cell_type": "code",
      "metadata": {
        "id": "HuVjOb3zrmHa",
        "colab_type": "code",
        "outputId": "a456bb04-e826-4bd0-e73c-6b4a8904be39",
        "colab": {
          "base_uri": "https://localhost:8080/",
          "height": 523
        }
      },
      "source": [
        "X, y = make_blobs(n_samples=(400, 50), cluster_std=[7.0, 2], random_state=22)\n",
        "X_train, X_test, y_train, y_test = train_test_split(X, y, random_state=0)\n",
        "svc = SVC(gamma=.05).fit(X_train, y_train)\n",
        "\n",
        "mglearn.plots.plot_decision_threshold()"
      ],
      "execution_count": 88,
      "outputs": [
        {
          "output_type": "display_data",
          "data": {
            "image/png": "[encoded data removed]",
            "text/plain": [
              "<Figure size 1080x576 with 6 Axes>"
            ]
          },
          "metadata": {
            "tags": []
          }
        }
      ]
    },
    {
      "cell_type": "code",
      "metadata": {
        "id": "oKIEuLrK4TXe",
        "colab_type": "code",
        "outputId": "90dbae96-0590-4411-dc40-3e753cd406f1",
        "colab": {
          "base_uri": "https://localhost:8080/",
          "height": 179
        }
      },
      "source": [
        "from sklearn.metrics import classification_report\n",
        "print(classification_report(y_test, svc.predict(X_test)))"
      ],
      "execution_count": 89,
      "outputs": [
        {
          "output_type": "stream",
          "text": [
            "              precision    recall  f1-score   support\n",
            "\n",
            "           0       0.97      0.89      0.93       104\n",
            "           1       0.35      0.67      0.46         9\n",
            "\n",
            "    accuracy                           0.88       113\n",
            "   macro avg       0.66      0.78      0.70       113\n",
            "weighted avg       0.92      0.88      0.89       113\n",
            "\n"
          ],
          "name": "stdout"
        }
      ]
    },
    {
      "cell_type": "code",
      "metadata": {
        "id": "tSl23RA_6SWm",
        "colab_type": "code",
        "colab": {}
      },
      "source": [
        "y_pred_lower_threshold = svc.decision_function(X_test) > -.8"
      ],
      "execution_count": 0,
      "outputs": []
    },
    {
      "cell_type": "markdown",
      "metadata": {
        "id": "8ApUdfY1-07b",
        "colab_type": "text"
      },
      "source": [
        "* 정밀도-재현율 곡선"
      ]
    },
    {
      "cell_type": "code",
      "metadata": {
        "id": "e-PDi7BK-4Ym",
        "colab_type": "code",
        "colab": {}
      },
      "source": [
        "from sklearn.metrics import precision_recall_curve\n",
        "precision, recall, thresholds = precision_recall_curve(\n",
        "    y_test, svc.decision_function(X_test))"
      ],
      "execution_count": 0,
      "outputs": []
    },
    {
      "cell_type": "code",
      "metadata": {
        "id": "6rM5Ssxu_EI1",
        "colab_type": "code",
        "outputId": "d5df6d14-a28b-4fa9-94ba-8a3568516d71",
        "colab": {
          "base_uri": "https://localhost:8080/",
          "height": 294
        }
      },
      "source": [
        "\n",
        "# 부드러운 곡선을 위해 데이터 포인트 수를 늘림\n",
        "X, y = make_blobs(n_samples=(4000, 500), cluster_std=[7.0, 2], random_state=22)\n",
        "X_train, X_test, y_train, y_test = train_test_split(X, y, random_state=0)\n",
        "\n",
        "svc = SVC(gamma=.05).fit(X_train, y_train)\n",
        "\n",
        "precision, recall, thresholds = precision_recall_curve(\n",
        "    y_test, svc.decision_function(X_test))\n",
        "# 0에 가까운 임계값을 찾기\n",
        "close_zero = np.argmin(np.abs(thresholds))\n",
        "plt.plot(precision[close_zero], recall[close_zero], 'o', markersize=10,\n",
        "         label=\"임계값 0\", fillstyle=\"none\", c='k', mew=2)\n",
        "\n",
        "plt.plot(precision, recall, label=\"정밀도-재현율 곡선\")\n",
        "plt.xlabel(\"정밀도\")\n",
        "plt.ylabel(\"재현율\")\n",
        "plt.legend(loc=\"best\")"
      ],
      "execution_count": 92,
      "outputs": [
        {
          "output_type": "execute_result",
          "data": {
            "text/plain": [
              "<matplotlib.legend.Legend at 0x7f05b8bbca90>"
            ]
          },
          "metadata": {
            "tags": []
          },
          "execution_count": 92
        },
        {
          "output_type": "display_data",
          "data": {
            "image/png": "[encoded data removed]",
            "text/plain": [
              "<Figure size 432x288 with 1 Axes>"
            ]
          },
          "metadata": {
            "tags": []
          }
        }
      ]
    },
    {
      "cell_type": "code",
      "metadata": {
        "id": "sazsCu_PAPOX",
        "colab_type": "code",
        "outputId": "5c66d87b-ae6d-428b-826e-9c65c87e0c88",
        "colab": {
          "base_uri": "https://localhost:8080/",
          "height": 294
        }
      },
      "source": [
        "from sklearn.ensemble import RandomForestClassifier\n",
        "\n",
        "rf = RandomForestClassifier(n_estimators=100, random_state=0, max_features=2)\n",
        "rf.fit(X_train, y_train)\n",
        "\n",
        "# RandomForestClassifier는 decision_function 대신 predict_proba를 제공합니다.\n",
        "precision_rf, recall_rf, thresholds_rf = precision_recall_curve(\n",
        "    y_test, rf.predict_proba(X_test)[:, 1])\n",
        "\n",
        "plt.plot(precision, recall, label=\"svc\")\n",
        "\n",
        "plt.plot(precision[close_zero], recall[close_zero], 'o', markersize=10,\n",
        "         label=\"svc: 임계값 0\", fillstyle=\"none\", c='k', mew=2)\n",
        "\n",
        "plt.plot(precision_rf, recall_rf, label=\"rf\")\n",
        "\n",
        "close_default_rf = np.argmin(np.abs(thresholds_rf - 0.5))\n",
        "plt.plot(precision_rf[close_default_rf], recall_rf[close_default_rf], '^', c='k',\n",
        "         markersize=10, label=\"rf: 임계값 0.5\", fillstyle=\"none\", mew=2)\n",
        "plt.xlabel(\"정밀도\")\n",
        "plt.ylabel(\"재현율\")\n",
        "plt.legend(loc=\"best\")"
      ],
      "execution_count": 93,
      "outputs": [
        {
          "output_type": "execute_result",
          "data": {
            "text/plain": [
              "<matplotlib.legend.Legend at 0x7f05b8b43b38>"
            ]
          },
          "metadata": {
            "tags": []
          },
          "execution_count": 93
        },
        {
          "output_type": "display_data",
          "data": {
            "image/png": "[encoded data removed]",
            "text/plain": [
              "<Figure size 432x288 with 1 Axes>"
            ]
          },
          "metadata": {
            "tags": []
          }
        }
      ]
    },
    {
      "cell_type": "code",
      "metadata": {
        "id": "dyac3u_cC0u4",
        "colab_type": "code",
        "outputId": "983af767-3836-4473-dd56-a792c395446f",
        "colab": {
          "base_uri": "https://localhost:8080/",
          "height": 53
        }
      },
      "source": [
        "print(\"랜덤 포레스트의 f1_score: {:.3f}\".format(\n",
        "    f1_score(y_test, rf.predict(X_test))))\n",
        "print(\"svc의 f1_score: {:.3f}\".format(f1_score(y_test, svc.predict(X_test))))"
      ],
      "execution_count": 94,
      "outputs": [
        {
          "output_type": "stream",
          "text": [
            "랜덤 포레스트의 f1_score: 0.610\n",
            "svc의 f1_score: 0.656\n"
          ],
          "name": "stdout"
        }
      ]
    },
    {
      "cell_type": "code",
      "metadata": {
        "id": "bw_mO6fmDf62",
        "colab_type": "code",
        "colab": {
          "base_uri": "https://localhost:8080/",
          "height": 53
        },
        "outputId": "5a6b44c8-ed5a-4e6e-8f0c-f706edc5d987"
      },
      "source": [
        "from sklearn.metrics import average_precision_score\n",
        "ap_rf = average_precision_score(y_test, rf.predict_proba(X_test)[:, 1])\n",
        "ap_svc = average_precision_score(y_test, svc.decision_function(X_test))\n",
        "print(\"랜덤 포레스트의 평균 정밀도: {:.3f}\".format(ap_rf))\n",
        "print(\"svc의 평균 정밀도: {:.3f}\".format(ap_svc))"
      ],
      "execution_count": 95,
      "outputs": [
        {
          "output_type": "stream",
          "text": [
            "랜덤 포레스트의 평균 정밀도: 0.660\n",
            "svc의 평균 정밀도: 0.666\n"
          ],
          "name": "stdout"
        }
      ]
    },
    {
      "cell_type": "markdown",
      "metadata": {
        "id": "DNgYfI9cL0Z6",
        "colab_type": "text"
      },
      "source": [
        "* ROC곡선"
      ]
    },
    {
      "cell_type": "code",
      "metadata": {
        "id": "I-R-yGQMLz3L",
        "colab_type": "code",
        "colab": {
          "base_uri": "https://localhost:8080/",
          "height": 294
        },
        "outputId": "9f7cb7c1-0ada-4b36-9fc5-3414db3f976b"
      },
      "source": [
        "from sklearn.metrics import roc_curve\n",
        "fpr, tpr, thresholds = roc_curve(y_test, svc.decision_function(X_test))\n",
        "\n",
        "plt.plot(fpr, tpr, label='ROC Curve')\n",
        "plt.xlabel('FPR')\n",
        "plt.ylabel('TPR')\n",
        "\n",
        "close_zero = np.argmin(np.abs(thresholds))\n",
        "plt.plot(fpr[close_zero], tpr[close_zero], 'o', markersize=10, label='임계값 0', fillstyle='none', mew=2)\n",
        "plt.legend(loc='best')"
      ],
      "execution_count": 96,
      "outputs": [
        {
          "output_type": "execute_result",
          "data": {
            "text/plain": [
              "<matplotlib.legend.Legend at 0x7f05b8c12908>"
            ]
          },
          "metadata": {
            "tags": []
          },
          "execution_count": 96
        },
        {
          "output_type": "display_data",
          "data": {
            "image/png": "[encoded data removed]",
            "text/plain": [
              "<Figure size 432x288 with 1 Axes>"
            ]
          },
          "metadata": {
            "tags": []
          }
        }
      ]
    },
    {
      "cell_type": "code",
      "metadata": {
        "id": "hbEtcayXNTKz",
        "colab_type": "code",
        "colab": {
          "base_uri": "https://localhost:8080/",
          "height": 294
        },
        "outputId": "23623c11-643e-4a83-9010-6ce102aced63"
      },
      "source": [
        "from sklearn.metrics import roc_curve\n",
        "fpr_rf, tpr_rf, thresholds_rf = roc_curve(y_test, rf.predict_proba(X_test)[:, 1])\n",
        "\n",
        "plt.plot(fpr, tpr, label=\"SVC의 ROC 곡선\")\n",
        "plt.plot(fpr_rf, tpr_rf, label=\"RF의 ROC 곡선\")\n",
        "\n",
        "plt.xlabel(\"FPR\")\n",
        "plt.ylabel(\"TPR (재현율)\")\n",
        "plt.plot(fpr[close_zero], tpr[close_zero], 'o', markersize=10,\n",
        "         label=\"SVC 임계값 0\", fillstyle=\"none\", c='k', mew=2)\n",
        "close_default_rf = np.argmin(np.abs(thresholds_rf - 0.5))\n",
        "plt.plot(fpr_rf[close_default_rf], tpr[close_default_rf], '^', markersize=10,\n",
        "         label=\"RF 임계값 0.5\", fillstyle=\"none\", c='k', mew=2)\n",
        "\n",
        "plt.legend(loc=4)"
      ],
      "execution_count": 97,
      "outputs": [
        {
          "output_type": "execute_result",
          "data": {
            "text/plain": [
              "<matplotlib.legend.Legend at 0x7f05b8a21da0>"
            ]
          },
          "metadata": {
            "tags": []
          },
          "execution_count": 97
        },
        {
          "output_type": "display_data",
          "data": {
            "image/png": "[encoded data removed]",
            "text/plain": [
              "<Figure size 432x288 with 1 Axes>"
            ]
          },
          "metadata": {
            "tags": []
          }
        }
      ]
    },
    {
      "cell_type": "code",
      "metadata": {
        "id": "6WVTrDg4PMvM",
        "colab_type": "code",
        "colab": {
          "base_uri": "https://localhost:8080/",
          "height": 53
        },
        "outputId": "49aa3763-9afb-4868-dfb3-a801f3268fdd"
      },
      "source": [
        "from sklearn.metrics import roc_auc_score\n",
        "rf_auc = roc_auc_score(y_test, rf.predict_proba(X_test)[:, 1])\n",
        "svc_auc = roc_auc_score(y_test, svc.decision_function(X_test))\n",
        "print(\"랜덤 포레스트의 AUC: {:.3f}\".format(rf_auc))\n",
        "print(\"SVC의 AUC: {:.3f}\".format(svc_auc))"
      ],
      "execution_count": 98,
      "outputs": [
        {
          "output_type": "stream",
          "text": [
            "랜덤 포레스트의 AUC: 0.937\n",
            "SVC의 AUC: 0.916\n"
          ],
          "name": "stdout"
        }
      ]
    },
    {
      "cell_type": "markdown",
      "metadata": {
        "id": "r61QxXcwImyL",
        "colab_type": "text"
      },
      "source": [
        "# 4. digits"
      ]
    },
    {
      "cell_type": "markdown",
      "metadata": {
        "id": "6QN5r6XqIoXx",
        "colab_type": "text"
      },
      "source": [
        "### 4-1. 불균형 데이터셋"
      ]
    },
    {
      "cell_type": "code",
      "metadata": {
        "id": "MdtFWiKRItAb",
        "colab_type": "code",
        "colab": {}
      },
      "source": [
        "from sklearn.datasets import load_digits\n",
        "\n",
        "digits = load_digits()\n",
        "y = digits.target == 9\n",
        "X_train, X_test, y_train, y_test = train_test_split(digits.data, y, random_state=0)"
      ],
      "execution_count": 0,
      "outputs": []
    },
    {
      "cell_type": "code",
      "metadata": {
        "id": "bhsV_Z8MI87A",
        "colab_type": "code",
        "colab": {
          "base_uri": "https://localhost:8080/",
          "height": 53
        },
        "outputId": "797781e7-c23b-4feb-cb23-a0da452acfa8"
      },
      "source": [
        "# 아무것도 학습하지 않고 False 레이블로만 예측했는데 90%의 정확도\n",
        "from sklearn.dummy import DummyClassifier\n",
        "dummy_majority = DummyClassifier(strategy='most_frequent').fit(X_train, y_train)\n",
        "pred_most_frequent = dummy_majority.predict(X_test)\n",
        "print('예측된 유니크 레이블: {}'.format(np.unique(pred_most_frequent)))\n",
        "print('테스트 점수: {:.3f}'.format(dummy_majority.score(X_test, y_test)))"
      ],
      "execution_count": 100,
      "outputs": [
        {
          "output_type": "stream",
          "text": [
            "예측된 유니크 레이블: [False]\n",
            "테스트 점수: 0.896\n"
          ],
          "name": "stdout"
        }
      ]
    },
    {
      "cell_type": "code",
      "metadata": {
        "id": "VT0mh_NCKOJO",
        "colab_type": "code",
        "colab": {
          "base_uri": "https://localhost:8080/",
          "height": 53
        },
        "outputId": "860ecc95-6296-4a6a-c2cd-07f1a0f84ed0"
      },
      "source": [
        "# 더미분류와 얼마 차이가 안남\n",
        "# 모델이 잘못되었거나, 문제를 풀기에 좋은 모델이 아니거나\n",
        "from sklearn.tree import DecisionTreeClassifier\n",
        "tree = DecisionTreeClassifier(max_depth=2).fit(X_train, y_train)\n",
        "pred_tree = tree.predict(X_test)\n",
        "print(np.unique(pred_tree))\n",
        "print('테스트 점수: {:.3f}'.format(tree.score(X_test, y_test)))"
      ],
      "execution_count": 101,
      "outputs": [
        {
          "output_type": "stream",
          "text": [
            "[False  True]\n",
            "테스트 점수: 0.918\n"
          ],
          "name": "stdout"
        }
      ]
    },
    {
      "cell_type": "code",
      "metadata": {
        "id": "ZIjc3kn_MEYv",
        "colab_type": "code",
        "colab": {
          "base_uri": "https://localhost:8080/",
          "height": 53
        },
        "outputId": "a0a15bc3-3577-417c-a48c-bb9b23476a8c"
      },
      "source": [
        "from sklearn.linear_model import LogisticRegression\n",
        "\n",
        "dummy = DummyClassifier().fit(X_train, y_train)\n",
        "pred_dummy = dummy.predict(X_test)\n",
        "print('dummy 점수: {:.3f}'.format(dummy.score(X_test, y_test)))\n",
        "\n",
        "logreg = LogisticRegression(C=.1).fit(X_train, y_train)\n",
        "pred_logreg = logreg.predict(X_test)\n",
        "print('logreg 점수: {:.3f}'.format(logreg.score(X_test, y_test)))"
      ],
      "execution_count": 102,
      "outputs": [
        {
          "output_type": "stream",
          "text": [
            "dummy 점수: 0.824\n",
            "logreg 점수: 0.984\n"
          ],
          "name": "stdout"
        }
      ]
    },
    {
      "cell_type": "markdown",
      "metadata": {
        "id": "b-DXHqoSOGil",
        "colab_type": "text"
      },
      "source": [
        "* 오차 행렬(confusion matrix)"
      ]
    },
    {
      "cell_type": "code",
      "metadata": {
        "id": "4zbzGkgPOJgh",
        "colab_type": "code",
        "colab": {
          "base_uri": "https://localhost:8080/",
          "height": 71
        },
        "outputId": "3f3a8bdc-eb17-4f5e-bc9f-0b4c5e875631"
      },
      "source": [
        "from sklearn.metrics import confusion_matrix\n",
        "confusion = confusion_matrix(y_test, pred_logreg)\n",
        "print('오차 행렬:\\n{}'.format(confusion))"
      ],
      "execution_count": 103,
      "outputs": [
        {
          "output_type": "stream",
          "text": [
            "오차 행렬:\n",
            "[[402   1]\n",
            " [  6  41]]\n"
          ],
          "name": "stdout"
        }
      ]
    },
    {
      "cell_type": "code",
      "metadata": {
        "id": "bCsFJvcMOeyN",
        "colab_type": "code",
        "colab": {
          "base_uri": "https://localhost:8080/",
          "height": 492
        },
        "outputId": "f44eb241-a6f3-49e7-825e-be9ac51ad78b"
      },
      "source": [
        "mglearn.plots.plot_confusion_matrix_illustration()"
      ],
      "execution_count": 104,
      "outputs": [
        {
          "output_type": "display_data",
          "data": {
            "image/png": "[encoded data removed]",
            "text/plain": [
              "<Figure size 576x576 with 1 Axes>"
            ]
          },
          "metadata": {
            "tags": []
          }
        }
      ]
    },
    {
      "cell_type": "code",
      "metadata": {
        "id": "5wl2YB5vOxgW",
        "colab_type": "code",
        "colab": {
          "base_uri": "https://localhost:8080/",
          "height": 268
        },
        "outputId": "b8988863-1cec-408c-ea30-ad5cbfeabb7b"
      },
      "source": [
        "mglearn.plots.plot_binary_confusion_matrix()"
      ],
      "execution_count": 105,
      "outputs": [
        {
          "output_type": "display_data",
          "data": {
            "image/png": "[encoded data removed]",
            "text/plain": [
              "<Figure size 432x288 with 1 Axes>"
            ]
          },
          "metadata": {
            "tags": []
          }
        }
      ]
    },
    {
      "cell_type": "code",
      "metadata": {
        "id": "xjm3iGNVPYWH",
        "colab_type": "code",
        "colab": {
          "base_uri": "https://localhost:8080/",
          "height": 287
        },
        "outputId": "e6b74d54-20cb-441f-af9c-5918b0bef429"
      },
      "source": [
        "# 2개의 더미, 2개의 분류 모델을 오차 행렬로 나타내기\n",
        "print(\"빈도 기반 더미 모델:\")\n",
        "print(confusion_matrix(y_test, pred_most_frequent))\n",
        "print(\"\\n무작위 더미 모델:\")\n",
        "print(confusion_matrix(y_test, pred_dummy))\n",
        "print(\"\\n결정 트리:\")\n",
        "print(confusion_matrix(y_test, pred_tree))\n",
        "print(\"\\n로지스틱 회귀\")\n",
        "print(confusion_matrix(y_test, pred_logreg))"
      ],
      "execution_count": 106,
      "outputs": [
        {
          "output_type": "stream",
          "text": [
            "빈도 기반 더미 모델:\n",
            "[[403   0]\n",
            " [ 47   0]]\n",
            "\n",
            "무작위 더미 모델:\n",
            "[[356  47]\n",
            " [ 41   6]]\n",
            "\n",
            "결정 트리:\n",
            "[[390  13]\n",
            " [ 24  23]]\n",
            "\n",
            "로지스틱 회귀\n",
            "[[402   1]\n",
            " [  6  41]]\n"
          ],
          "name": "stdout"
        }
      ]
    },
    {
      "cell_type": "markdown",
      "metadata": {
        "id": "SlhAVzCyatDG",
        "colab_type": "text"
      },
      "source": [
        "* 정밀도와 재현율을 한 눈에! f-점수"
      ]
    },
    {
      "cell_type": "code",
      "metadata": {
        "id": "plYck6nmZcZ2",
        "colab_type": "code",
        "colab": {
          "base_uri": "https://localhost:8080/",
          "height": 89
        },
        "outputId": "6a6d7b41-17a4-4ac7-bf8f-bf30eb97abaa"
      },
      "source": [
        "from sklearn.metrics import f1_score\n",
        "print(\"빈도 기반 더미 모델의 f1 score: {:.2f}\".format(\n",
        "    f1_score(y_test, pred_most_frequent)))\n",
        "print(\"무작위 더미 모델의 f1 score: {:.2f}\".format(f1_score(y_test, pred_dummy)))\n",
        "print(\"트리 모델의 f1 score: {:.2f}\".format(f1_score(y_test, pred_tree)))\n",
        "print(\"로지스틱 회귀 모델의 f1 score: {:.2f}\".format(\n",
        "    f1_score(y_test, pred_logreg)))"
      ],
      "execution_count": 107,
      "outputs": [
        {
          "output_type": "stream",
          "text": [
            "빈도 기반 더미 모델의 f1 score: 0.00\n",
            "무작위 더미 모델의 f1 score: 0.12\n",
            "트리 모델의 f1 score: 0.55\n",
            "로지스틱 회귀 모델의 f1 score: 0.92\n"
          ],
          "name": "stdout"
        }
      ]
    },
    {
      "cell_type": "code",
      "metadata": {
        "id": "t2kp8JfAbafR",
        "colab_type": "code",
        "colab": {
          "base_uri": "https://localhost:8080/",
          "height": 179
        },
        "outputId": "8ec47436-810c-4ff2-e1f5-79cc6a1c16db"
      },
      "source": [
        "from sklearn.metrics import classification_report\n",
        "print(classification_report(y_test, pred_most_frequent,\n",
        "                            target_names=[\"9 아님\", \"9\"]))"
      ],
      "execution_count": 108,
      "outputs": [
        {
          "output_type": "stream",
          "text": [
            "              precision    recall  f1-score   support\n",
            "\n",
            "        9 아님       0.90      1.00      0.94       403\n",
            "           9       0.00      0.00      0.00        47\n",
            "\n",
            "    accuracy                           0.90       450\n",
            "   macro avg       0.45      0.50      0.47       450\n",
            "weighted avg       0.80      0.90      0.85       450\n",
            "\n"
          ],
          "name": "stdout"
        }
      ]
    },
    {
      "cell_type": "markdown",
      "metadata": {
        "id": "D0yXL78eO4xD",
        "colab_type": "text"
      },
      "source": [
        "* ROC, AUC"
      ]
    },
    {
      "cell_type": "code",
      "metadata": {
        "id": "34ie6LKjO39D",
        "colab_type": "code",
        "colab": {}
      },
      "source": [
        "y = digits.target == 9"
      ],
      "execution_count": 0,
      "outputs": []
    },
    {
      "cell_type": "code",
      "metadata": {
        "id": "5puS7eWqO8Do",
        "colab_type": "code",
        "colab": {
          "base_uri": "https://localhost:8080/",
          "height": 348
        },
        "outputId": "2cedbe1a-a77d-44aa-e1bd-b770e03e99f6"
      },
      "source": [
        "X_train, X_test, y_train, y_test = train_test_split(\n",
        "    digits.data, y, random_state=0)\n",
        "\n",
        "plt.figure()\n",
        "\n",
        "for gamma in [1, 0.1, 0.01]:\n",
        "    svc = SVC(gamma=gamma).fit(X_train, y_train)\n",
        "    accuracy = svc.score(X_test, y_test)\n",
        "    auc = roc_auc_score(y_test, svc.decision_function(X_test))\n",
        "    fpr, tpr, _ = roc_curve(y_test , svc.decision_function(X_test))\n",
        "    print(\"gamma = {:.2f}  정확도 = {:.2f}  AUC = {:.2f}\".format(\n",
        "        gamma, accuracy, auc))\n",
        "    plt.plot(fpr, tpr, label=\"gamma={:.2f}\".format(gamma))\n",
        "plt.xlabel(\"FPR\")\n",
        "plt.ylabel(\"TPR\")\n",
        "plt.xlim(-0.01, 1)\n",
        "plt.ylim(0, 1.02)\n",
        "plt.legend(loc=\"best\")"
      ],
      "execution_count": 110,
      "outputs": [
        {
          "output_type": "stream",
          "text": [
            "gamma = 1.00  정확도 = 0.90  AUC = 0.50\n",
            "gamma = 0.10  정확도 = 0.90  AUC = 0.96\n",
            "gamma = 0.01  정확도 = 0.90  AUC = 1.00\n"
          ],
          "name": "stdout"
        },
        {
          "output_type": "execute_result",
          "data": {
            "text/plain": [
              "<matplotlib.legend.Legend at 0x7f05b89574a8>"
            ]
          },
          "metadata": {
            "tags": []
          },
          "execution_count": 110
        },
        {
          "output_type": "display_data",
          "data": {
            "image/png": "[encoded data removed]",
            "text/plain": [
              "<Figure size 432x288 with 1 Axes>"
            ]
          },
          "metadata": {
            "tags": []
          }
        }
      ]
    },
    {
      "cell_type": "markdown",
      "metadata": {
        "id": "5lPsMK8NQiPR",
        "colab_type": "text"
      },
      "source": [
        "### 4-2. 다중 분류의 평가 지표"
      ]
    },
    {
      "cell_type": "code",
      "metadata": {
        "id": "Gq4MUhx6QkH9",
        "colab_type": "code",
        "colab": {
          "base_uri": "https://localhost:8080/",
          "height": 233
        },
        "outputId": "2c12a1bb-c631-438b-de35-e8305f6edfff"
      },
      "source": [
        "from sklearn.metrics import accuracy_score\n",
        "X_train, X_test, y_train, y_test = train_test_split(digits['data'], digits['target'], random_state=0)\n",
        "lr = LogisticRegression().fit(X_train, y_train)\n",
        "pred = lr.predict(X_test)\n",
        "print('정확도: {:.3f}'.format(accuracy_score(y_test, pred)))\n",
        "print('오차 행렬:\\n{}'.format(confusion_matrix(y_test, pred)))"
      ],
      "execution_count": 111,
      "outputs": [
        {
          "output_type": "stream",
          "text": [
            "정확도: 0.951\n",
            "오차 행렬:\n",
            "[[37  0  0  0  0  0  0  0  0  0]\n",
            " [ 0 40  0  0  0  0  0  0  2  1]\n",
            " [ 0  1 40  3  0  0  0  0  0  0]\n",
            " [ 0  0  0 43  0  0  0  0  1  1]\n",
            " [ 0  0  0  0 37  0  0  1  0  0]\n",
            " [ 0  0  0  0  0 46  0  0  0  2]\n",
            " [ 0  1  0  0  0  0 51  0  0  0]\n",
            " [ 0  0  0  1  1  0  0 46  0  0]\n",
            " [ 0  3  1  0  0  0  0  0 43  1]\n",
            " [ 0  0  0  0  0  1  0  0  1 45]]\n"
          ],
          "name": "stdout"
        }
      ]
    },
    {
      "cell_type": "code",
      "metadata": {
        "id": "7H0WkEAyRKhz",
        "colab_type": "code",
        "colab": {
          "base_uri": "https://localhost:8080/",
          "height": 291
        },
        "outputId": "e4bb5259-ee8e-488b-ebb4-2f5b7c003db8"
      },
      "source": [
        "scores_image = mglearn.tools.heatmap(\n",
        "    confusion_matrix(y_test, pred), xlabel='예측 레이블',\n",
        "    ylabel='진짜 레이블', xticklabels=digits.target_names,\n",
        "    yticklabels=digits.target_names, cmap=plt.cm.gray_r, fmt=\"%d\")    \n",
        "plt.title(\"오차 행렬\")\n",
        "plt.gca().invert_yaxis()"
      ],
      "execution_count": 113,
      "outputs": [
        {
          "output_type": "display_data",
          "data": {
            "image/png": "[encoded data removed]",
            "text/plain": [
              "<Figure size 432x288 with 1 Axes>"
            ]
          },
          "metadata": {
            "tags": []
          }
        }
      ]
    },
    {
      "cell_type": "code",
      "metadata": {
        "id": "o1WD6zp7RlPZ",
        "colab_type": "code",
        "colab": {
          "base_uri": "https://localhost:8080/",
          "height": 323
        },
        "outputId": "d38d187c-e953-4ec2-9323-7d51626ea006"
      },
      "source": [
        "print(classification_report(y_test, pred))"
      ],
      "execution_count": 114,
      "outputs": [
        {
          "output_type": "stream",
          "text": [
            "              precision    recall  f1-score   support\n",
            "\n",
            "           0       1.00      1.00      1.00        37\n",
            "           1       0.89      0.93      0.91        43\n",
            "           2       0.98      0.91      0.94        44\n",
            "           3       0.91      0.96      0.93        45\n",
            "           4       0.97      0.97      0.97        38\n",
            "           5       0.98      0.96      0.97        48\n",
            "           6       1.00      0.98      0.99        52\n",
            "           7       0.98      0.96      0.97        48\n",
            "           8       0.91      0.90      0.91        48\n",
            "           9       0.90      0.96      0.93        47\n",
            "\n",
            "    accuracy                           0.95       450\n",
            "   macro avg       0.95      0.95      0.95       450\n",
            "weighted avg       0.95      0.95      0.95       450\n",
            "\n"
          ],
          "name": "stdout"
        }
      ]
    },
    {
      "cell_type": "code",
      "metadata": {
        "id": "LoEy_0zKTdPo",
        "colab_type": "code",
        "colab": {
          "base_uri": "https://localhost:8080/",
          "height": 71
        },
        "outputId": "99535952-9f6d-4ff8-da13-7d548addc94e"
      },
      "source": [
        "print('micro: {:.3f}'.format(f1_score(y_test, pred, average='micro')))\n",
        "print('macro: {:.3f}'.format(f1_score(y_test, pred, average='macro')))\n",
        "print('weighted: {:.3f}'.format(f1_score(y_test, pred, average='weighted')))"
      ],
      "execution_count": 117,
      "outputs": [
        {
          "output_type": "stream",
          "text": [
            "micro: 0.951\n",
            "macro: 0.952\n",
            "weighted: 0.951\n"
          ],
          "name": "stdout"
        }
      ]
    },
    {
      "cell_type": "markdown",
      "metadata": {
        "id": "I5Qw58Y8Wk_Z",
        "colab_type": "text"
      },
      "source": [
        "### 4-3. 모델 선택에서 평가 지표 사용하기, (다른 score 방식 사용)"
      ]
    },
    {
      "cell_type": "code",
      "metadata": {
        "id": "_I2JCvWXWkeV",
        "colab_type": "code",
        "colab": {
          "base_uri": "https://localhost:8080/",
          "height": 71
        },
        "outputId": "2859d4bf-4a91-46a3-aa3f-c8a6bc4d8e87"
      },
      "source": [
        "print(\"기본 평가 지표:\", cross_val_score(SVC(), digits.data, digits.target == 9, cv=5))\n",
        "\n",
        "explicit_accuracy =  cross_val_score(SVC(), digits.data, digits.target == 9, scoring=\"accuracy\", cv=5)\n",
        "print(\"정확도 지표:\", explicit_accuracy)\n",
        "\n",
        "ap =  cross_val_score(SVC(), digits.data, digits.target == 9, scoring=\"average_precision\", cv=5)\n",
        "print(\"평균 정밀도 지표:\", ap)"
      ],
      "execution_count": 118,
      "outputs": [
        {
          "output_type": "stream",
          "text": [
            "기본 평가 지표: [0.975      0.99166667 1.         0.99442897 0.98050139]\n",
            "정확도 지표: [0.975      0.99166667 1.         0.99442897 0.98050139]\n",
            "평균 정밀도 지표: [0.97562403 0.9886322  1.         0.99853801 0.95015534]\n"
          ],
          "name": "stdout"
        }
      ]
    },
    {
      "cell_type": "code",
      "metadata": {
        "id": "Cb7PNs1_W8k0",
        "colab_type": "code",
        "colab": {
          "base_uri": "https://localhost:8080/",
          "height": 107
        },
        "outputId": "8af59e3a-de34-49c4-fbc7-338071974487"
      },
      "source": [
        "X_train, X_test, y_train, y_test = train_test_split(\n",
        "    digits.data, digits.target == 9, random_state=0)\n",
        "\n",
        "# 일부러 적절하지 않은 그리드를 만들기\n",
        "param_grid = {'gamma': [0.0001, 0.01, 0.1, 1, 10]}\n",
        "# 기본 정확도 측정 지표를 사요\n",
        "grid = GridSearchCV(SVC(), param_grid=param_grid)\n",
        "grid.fit(X_train, y_train)\n",
        "print(\"정확도 지표를 사용한 그리드 서치\")\n",
        "print(\"최적의 파라미터:\", grid.best_params_)\n",
        "print(\"최상의 교차 검증 점수 (정확도)): {:.3f}\".format(grid.best_score_))\n",
        "print(\"테스트 세트 평균 정밀도: {:.3f}\".format(\n",
        "      average_precision_score(y_test, grid.decision_function(X_test))))\n",
        "print(\"테스트 세트 정확도: {:.3f}\".format(\n",
        "      # grid.score 점수와 동일\n",
        "      accuracy_score(y_test, grid.predict(X_test))))"
      ],
      "execution_count": 119,
      "outputs": [
        {
          "output_type": "stream",
          "text": [
            "정확도 지표를 사용한 그리드 서치\n",
            "최적의 파라미터: {'gamma': 0.0001}\n",
            "최상의 교차 검증 점수 (정확도)): 0.976\n",
            "테스트 세트 평균 정밀도: 0.966\n",
            "테스트 세트 정확도: 0.973\n"
          ],
          "name": "stdout"
        }
      ]
    },
    {
      "cell_type": "code",
      "metadata": {
        "id": "tl4xx7EUXZEc",
        "colab_type": "code",
        "colab": {
          "base_uri": "https://localhost:8080/",
          "height": 107
        },
        "outputId": "275aeb66-4dd0-459a-b590-f6bf5c0142ac"
      },
      "source": [
        "# 평균 정밀도 지표 사용\n",
        "grid = GridSearchCV(SVC(), param_grid=param_grid, scoring=\"average_precision\")\n",
        "grid.fit(X_train, y_train)\n",
        "print(\"평균 정밀도 지표를 사용한 그리드 서치\")\n",
        "print(\"최적의 파라미터:\", grid.best_params_)\n",
        "print(\"최상의 교차 검증 점수 (평균 정밀도): {:.3f}\".format(grid.best_score_))\n",
        "print(\"테스트 세트 평균 정밀도: {:.3f}\".format(\n",
        "      # grid.score 점수와 동일\n",
        "      average_precision_score(y_test, grid.decision_function(X_test))))\n",
        "print(\"테스트 세트 정확도: {:.3f}\".format(\n",
        "      accuracy_score(y_test, grid.predict(X_test))))"
      ],
      "execution_count": 120,
      "outputs": [
        {
          "output_type": "stream",
          "text": [
            "평균 정밀도 지표를 사용한 그리드 서치\n",
            "최적의 파라미터: {'gamma': 0.01}\n",
            "최상의 교차 검증 점수 (평균 정밀도): 0.988\n",
            "테스트 세트 평균 정밀도: 0.996\n",
            "테스트 세트 정확도: 0.896\n"
          ],
          "name": "stdout"
        }
      ]
    },
    {
      "cell_type": "code",
      "metadata": {
        "id": "ok3Mf4Pfa3Y4",
        "colab_type": "code",
        "colab": {
          "base_uri": "https://localhost:8080/",
          "height": 73
        },
        "outputId": "86467a8d-06d0-44c0-ab55-90e8bae10b31"
      },
      "source": [
        "from sklearn.metrics.scorer import SCORERS\n",
        "print(\"가능한 평가 방식:\\n\", sorted(SCORERS.keys()))"
      ],
      "execution_count": 121,
      "outputs": [
        {
          "output_type": "stream",
          "text": [
            "가능한 평가 방식:\n",
            " ['accuracy', 'adjusted_mutual_info_score', 'adjusted_rand_score', 'average_precision', 'balanced_accuracy', 'completeness_score', 'explained_variance', 'f1', 'f1_macro', 'f1_micro', 'f1_samples', 'f1_weighted', 'fowlkes_mallows_score', 'homogeneity_score', 'jaccard', 'jaccard_macro', 'jaccard_micro', 'jaccard_samples', 'jaccard_weighted', 'max_error', 'mutual_info_score', 'neg_brier_score', 'neg_log_loss', 'neg_mean_absolute_error', 'neg_mean_gamma_deviance', 'neg_mean_poisson_deviance', 'neg_mean_squared_error', 'neg_mean_squared_log_error', 'neg_median_absolute_error', 'neg_root_mean_squared_error', 'normalized_mutual_info_score', 'precision', 'precision_macro', 'precision_micro', 'precision_samples', 'precision_weighted', 'r2', 'recall', 'recall_macro', 'recall_micro', 'recall_samples', 'recall_weighted', 'roc_auc', 'roc_auc_ovo', 'roc_auc_ovo_weighted', 'roc_auc_ovr', 'roc_auc_ovr_weighted', 'v_measure_score']\n"
          ],
          "name": "stdout"
        }
      ]
    }
  ]
}